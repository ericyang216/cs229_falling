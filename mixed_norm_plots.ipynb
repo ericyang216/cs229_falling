{
 "cells": [
  {
   "cell_type": "code",
   "execution_count": 1,
   "metadata": {},
   "outputs": [],
   "source": [
    "import pandas as pd\n",
    "import numpy as np\n",
    "import matplotlib.pyplot as plt\n",
    "%matplotlib inline\n",
    "from sklearn.metrics import precision_score\n",
    "from sklearn.metrics import recall_score\n",
    "from sklearn.metrics import accuracy_score\n",
    "from sklearn.metrics import f1_score\n",
    "from sklearn.metrics import roc_curve, auc\n",
    "from sklearn.metrics import mean_squared_error\n",
    "\n",
    "def evaluation_metrics(y_pred, y_label, thresh=0.5):\n",
    "    true_pos = []\n",
    "    true_neg = []\n",
    "    false_pos = []\n",
    "    false_neg = []\n",
    "\n",
    "    for i in range(len(y_pred)):\n",
    "        if y_label[i] < thresh and y_pred[i] < thresh:\n",
    "            true_neg.append(i)\n",
    "        elif y_label[i] > thresh and y_pred[i] > thresh:\n",
    "            true_pos.append(i)\n",
    "        elif y_label[i] < thresh and y_pred[i] > thresh:\n",
    "            false_pos.append(i)\n",
    "        elif y_label[i] > thresh and y_pred[i] < thresh:\n",
    "            false_neg.append(i)\n",
    "\n",
    "    TP = len(true_pos)\n",
    "    TN = len(true_neg)\n",
    "    FP = len(false_pos)\n",
    "    FN = len(false_neg)\n",
    "\n",
    "    fpr, tpr, thresholds = roc_curve(y_label, y_pred, pos_label=1)\n",
    "\n",
    "    eval = \\\n",
    "    {\n",
    "        'accuracy'  : (TP + TN) / (TP + TN + TN + FN) if (TP + TN + TN + FN) > 0 else 0, \n",
    "        'precision' : TP / (TP + FP) if (TP + FP) > 0 else 0,\n",
    "        'recall'    : TP / (TP + FN) if (TP + FN) > 0 else 0,\n",
    "        'f1'        : (2*TP) / (2*TP + FP + FN) if (TP + FP + FN) > 0 else 0,\n",
    "        'roc_auc'   : auc(fpr, tpr),\n",
    "        'fpr'       : fpr,\n",
    "        'tpr'       : tpr\n",
    "    }\n",
    "\n",
    "    return eval"
   ]
  },
  {
   "cell_type": "code",
   "execution_count": 2,
   "metadata": {},
   "outputs": [],
   "source": [
    "# *** LOAD DATA *** \n",
    "from sklearn.model_selection import train_test_split\n",
    "\n",
    "nominal_sample = pd.read_csv('2015_sample_n1.csv')\n",
    "failure_sample = pd.read_csv('2015_fail_n1.csv')\n",
    "\n",
    "# For further testing on data from the future\n",
    "#future_nominal = pd.read_csv('2018_q1_sample.csv')\n",
    "#future_failure = pd.read_csv('2018_q1_failures.csv')\n",
    "\n",
    "nominal_sample = nominal_sample.dropna(axis=0, thresh=20).dropna(axis=1)\n",
    "failure_sample = failure_sample.dropna(axis=0, thresh=20).dropna(axis=1)\n",
    "\n",
    "norm_feature_columns = [ 'smart_1_raw', 'smart_3_raw', 'smart_4_raw', 'smart_5_raw',\n",
    "           'smart_7_raw','smart_12_raw', 'smart_194_raw', \n",
    "           'smart_197_raw', 'smart_198_raw', 'smart_199_raw']\n",
    "\n",
    "feature_columns = [ 'smart_1_raw', 'smart_3_raw', 'smart_4_raw', 'smart_5_raw',\n",
    "           'smart_7_raw','smart_12_raw', 'smart_194_raw', \n",
    "           'smart_197_raw', 'smart_198_raw', 'smart_199_raw',\n",
    "                  'smart_1_normalized', 'smart_3_normalized', 'smart_4_normalized', 'smart_5_normalized',\n",
    "           'smart_7_normalized','smart_12_normalized', 'smart_194_normalized', \n",
    "           'smart_197_normalized', 'smart_198_normalized', 'smart_199_normalized']\n",
    "\n",
    "data_curr = pd.concat([nominal_sample, failure_sample])"
   ]
  },
  {
   "cell_type": "code",
   "execution_count": 3,
   "metadata": {},
   "outputs": [
    {
     "name": "stderr",
     "output_type": "stream",
     "text": [
      "C:\\Anaconda3\\lib\\site-packages\\ipykernel\\__main__.py:17: SettingWithCopyWarning: \n",
      "A value is trying to be set on a copy of a slice from a DataFrame.\n",
      "Try using .loc[row_indexer,col_indexer] = value instead\n",
      "\n",
      "See the caveats in the documentation: http://pandas.pydata.org/pandas-docs/stable/indexing.html#indexing-view-versus-copy\n"
     ]
    }
   ],
   "source": [
    "data_norm = pd.DataFrame()\n",
    "manufacturers = ['ST','Hi','WD','To','HG']\n",
    "for man in manufacturers:\n",
    "    data_sub = data_curr[[i[:2].lower()==man.lower() for i in data_curr.model]]\n",
    "    max_ = pd.read_csv('scaling/%s_max.csv' % man.lower())\n",
    "    max_.index = max_['date']\n",
    "    del max_['date']\n",
    "    max_.columns = ['value']\n",
    "    min_ = pd.read_csv('scaling/%s_min.csv' % man.lower())\n",
    "    min_.index = min_['date']\n",
    "    del min_['date']\n",
    "    min_.columns = ['value']\n",
    "    for col in norm_feature_columns:\n",
    "        range_ = float(max_.value[col]) - float(min_.value[col])\n",
    "        if range_==0:\n",
    "            range_ = 1\n",
    "        data_sub[col] = (data_sub[col] - float(min_.value[col]) )/range_\n",
    "    data_norm = pd.concat([data_norm,data_sub])"
   ]
  },
  {
   "cell_type": "code",
   "execution_count": 4,
   "metadata": {},
   "outputs": [],
   "source": [
    "manu_lower = [m.lower() for m in manufacturers]\n",
    "for man in data_curr.model.unique():\n",
    "    if man[:2].lower() not in manu_lower:\n",
    "        print(man)"
   ]
  },
  {
   "cell_type": "code",
   "execution_count": 5,
   "metadata": {},
   "outputs": [
    {
     "data": {
      "text/html": [
       "<div>\n",
       "<style scoped>\n",
       "    .dataframe tbody tr th:only-of-type {\n",
       "        vertical-align: middle;\n",
       "    }\n",
       "\n",
       "    .dataframe tbody tr th {\n",
       "        vertical-align: top;\n",
       "    }\n",
       "\n",
       "    .dataframe thead th {\n",
       "        text-align: right;\n",
       "    }\n",
       "</style>\n",
       "<table border=\"1\" class=\"dataframe\">\n",
       "  <thead>\n",
       "    <tr style=\"text-align: right;\">\n",
       "      <th></th>\n",
       "      <th>date</th>\n",
       "      <th>serial_number</th>\n",
       "      <th>model</th>\n",
       "      <th>capacity_bytes</th>\n",
       "      <th>failure</th>\n",
       "      <th>smart_1_normalized</th>\n",
       "      <th>smart_1_raw</th>\n",
       "      <th>smart_3_normalized</th>\n",
       "      <th>smart_3_raw</th>\n",
       "      <th>smart_4_normalized</th>\n",
       "      <th>...</th>\n",
       "      <th>smart_12_normalized</th>\n",
       "      <th>smart_12_raw</th>\n",
       "      <th>smart_194_normalized</th>\n",
       "      <th>smart_194_raw</th>\n",
       "      <th>smart_197_normalized</th>\n",
       "      <th>smart_197_raw</th>\n",
       "      <th>smart_198_normalized</th>\n",
       "      <th>smart_198_raw</th>\n",
       "      <th>smart_199_normalized</th>\n",
       "      <th>smart_199_raw</th>\n",
       "    </tr>\n",
       "  </thead>\n",
       "  <tbody>\n",
       "    <tr>\n",
       "      <th>3</th>\n",
       "      <td>2015-12-31</td>\n",
       "      <td>Z304HKKB</td>\n",
       "      <td>ST4000DM000</td>\n",
       "      <td>4000787030016</td>\n",
       "      <td>0</td>\n",
       "      <td>114.0</td>\n",
       "      <td>0.286470</td>\n",
       "      <td>96.0</td>\n",
       "      <td>0.0</td>\n",
       "      <td>100.0</td>\n",
       "      <td>...</td>\n",
       "      <td>100.0</td>\n",
       "      <td>0.009317</td>\n",
       "      <td>27.0</td>\n",
       "      <td>0.444444</td>\n",
       "      <td>100.0</td>\n",
       "      <td>0.0</td>\n",
       "      <td>100.0</td>\n",
       "      <td>0.0</td>\n",
       "      <td>200.0</td>\n",
       "      <td>0.0</td>\n",
       "    </tr>\n",
       "    <tr>\n",
       "      <th>8</th>\n",
       "      <td>2015-06-29</td>\n",
       "      <td>6XW00ZQF</td>\n",
       "      <td>ST31500541AS</td>\n",
       "      <td>1500301910016</td>\n",
       "      <td>0</td>\n",
       "      <td>108.0</td>\n",
       "      <td>0.067287</td>\n",
       "      <td>100.0</td>\n",
       "      <td>0.0</td>\n",
       "      <td>100.0</td>\n",
       "      <td>...</td>\n",
       "      <td>100.0</td>\n",
       "      <td>0.229814</td>\n",
       "      <td>29.0</td>\n",
       "      <td>0.518519</td>\n",
       "      <td>100.0</td>\n",
       "      <td>0.0</td>\n",
       "      <td>100.0</td>\n",
       "      <td>0.0</td>\n",
       "      <td>200.0</td>\n",
       "      <td>0.0</td>\n",
       "    </tr>\n",
       "    <tr>\n",
       "      <th>9</th>\n",
       "      <td>2015-07-19</td>\n",
       "      <td>Z4D05W38</td>\n",
       "      <td>ST6000DX000</td>\n",
       "      <td>6001175126016</td>\n",
       "      <td>0</td>\n",
       "      <td>119.0</td>\n",
       "      <td>0.862584</td>\n",
       "      <td>89.0</td>\n",
       "      <td>0.0</td>\n",
       "      <td>100.0</td>\n",
       "      <td>...</td>\n",
       "      <td>100.0</td>\n",
       "      <td>0.021739</td>\n",
       "      <td>20.0</td>\n",
       "      <td>0.185185</td>\n",
       "      <td>100.0</td>\n",
       "      <td>0.0</td>\n",
       "      <td>100.0</td>\n",
       "      <td>0.0</td>\n",
       "      <td>200.0</td>\n",
       "      <td>0.0</td>\n",
       "    </tr>\n",
       "    <tr>\n",
       "      <th>10</th>\n",
       "      <td>2015-06-19</td>\n",
       "      <td>Z3015HXT</td>\n",
       "      <td>ST4000DM000</td>\n",
       "      <td>4000787030016</td>\n",
       "      <td>0</td>\n",
       "      <td>120.0</td>\n",
       "      <td>0.965002</td>\n",
       "      <td>91.0</td>\n",
       "      <td>0.0</td>\n",
       "      <td>100.0</td>\n",
       "      <td>...</td>\n",
       "      <td>100.0</td>\n",
       "      <td>0.055901</td>\n",
       "      <td>32.0</td>\n",
       "      <td>0.629630</td>\n",
       "      <td>100.0</td>\n",
       "      <td>0.0</td>\n",
       "      <td>100.0</td>\n",
       "      <td>0.0</td>\n",
       "      <td>200.0</td>\n",
       "      <td>0.0</td>\n",
       "    </tr>\n",
       "    <tr>\n",
       "      <th>11</th>\n",
       "      <td>2015-03-10</td>\n",
       "      <td>Z302B11P</td>\n",
       "      <td>ST4000DM000</td>\n",
       "      <td>4000787030016</td>\n",
       "      <td>0</td>\n",
       "      <td>117.0</td>\n",
       "      <td>0.498432</td>\n",
       "      <td>96.0</td>\n",
       "      <td>0.0</td>\n",
       "      <td>100.0</td>\n",
       "      <td>...</td>\n",
       "      <td>100.0</td>\n",
       "      <td>0.012422</td>\n",
       "      <td>29.0</td>\n",
       "      <td>0.518519</td>\n",
       "      <td>100.0</td>\n",
       "      <td>0.0</td>\n",
       "      <td>100.0</td>\n",
       "      <td>0.0</td>\n",
       "      <td>200.0</td>\n",
       "      <td>0.0</td>\n",
       "    </tr>\n",
       "  </tbody>\n",
       "</table>\n",
       "<p>5 rows × 29 columns</p>\n",
       "</div>"
      ],
      "text/plain": [
       "          date serial_number         model  capacity_bytes  failure  \\\n",
       "3   2015-12-31      Z304HKKB   ST4000DM000   4000787030016        0   \n",
       "8   2015-06-29      6XW00ZQF  ST31500541AS   1500301910016        0   \n",
       "9   2015-07-19      Z4D05W38   ST6000DX000   6001175126016        0   \n",
       "10  2015-06-19      Z3015HXT   ST4000DM000   4000787030016        0   \n",
       "11  2015-03-10      Z302B11P   ST4000DM000   4000787030016        0   \n",
       "\n",
       "    smart_1_normalized  smart_1_raw  smart_3_normalized  smart_3_raw  \\\n",
       "3                114.0     0.286470                96.0          0.0   \n",
       "8                108.0     0.067287               100.0          0.0   \n",
       "9                119.0     0.862584                89.0          0.0   \n",
       "10               120.0     0.965002                91.0          0.0   \n",
       "11               117.0     0.498432                96.0          0.0   \n",
       "\n",
       "    smart_4_normalized      ...        smart_12_normalized  smart_12_raw  \\\n",
       "3                100.0      ...                      100.0      0.009317   \n",
       "8                100.0      ...                      100.0      0.229814   \n",
       "9                100.0      ...                      100.0      0.021739   \n",
       "10               100.0      ...                      100.0      0.055901   \n",
       "11               100.0      ...                      100.0      0.012422   \n",
       "\n",
       "    smart_194_normalized  smart_194_raw  smart_197_normalized  smart_197_raw  \\\n",
       "3                   27.0       0.444444                 100.0            0.0   \n",
       "8                   29.0       0.518519                 100.0            0.0   \n",
       "9                   20.0       0.185185                 100.0            0.0   \n",
       "10                  32.0       0.629630                 100.0            0.0   \n",
       "11                  29.0       0.518519                 100.0            0.0   \n",
       "\n",
       "    smart_198_normalized  smart_198_raw  smart_199_normalized  smart_199_raw  \n",
       "3                  100.0            0.0                 200.0            0.0  \n",
       "8                  100.0            0.0                 200.0            0.0  \n",
       "9                  100.0            0.0                 200.0            0.0  \n",
       "10                 100.0            0.0                 200.0            0.0  \n",
       "11                 100.0            0.0                 200.0            0.0  \n",
       "\n",
       "[5 rows x 29 columns]"
      ]
     },
     "execution_count": 5,
     "metadata": {},
     "output_type": "execute_result"
    }
   ],
   "source": [
    "data_norm.head()"
   ]
  },
  {
   "cell_type": "code",
   "execution_count": 6,
   "metadata": {},
   "outputs": [
    {
     "name": "stderr",
     "output_type": "stream",
     "text": [
      "C:\\Anaconda3\\lib\\site-packages\\sklearn\\model_selection\\_split.py:2069: FutureWarning: From version 0.21, test_size will always complement train_size unless both are specified.\n",
      "  FutureWarning)\n"
     ]
    }
   ],
   "source": [
    "y_curr = data_norm['failure']\n",
    "x_curr = data_norm[feature_columns]\n",
    "\n",
    "x_train, x_val, y_train, y_val = train_test_split(x_curr, y_curr, train_size=0.8, random_state=1)\n",
    "\n",
    "#data_future = pd.concat([future_nominal, future_failure])\n",
    "#y_future = data_future['failure']\n",
    "#x_future = data_future[feature_columns]\n",
    "\n",
    "x_train = x_train.values\n",
    "x_val = x_val.values\n",
    "y_train = y_train.values\n",
    "y_val = y_val.values\n",
    "#x_future = x_future.values\n",
    "#y_future = y_future.values\n",
    "\n",
    "# *** LOAD DATA ***"
   ]
  },
  {
   "cell_type": "code",
   "execution_count": 7,
   "metadata": {},
   "outputs": [
    {
     "data": {
      "text/html": [
       "<div>\n",
       "<style scoped>\n",
       "    .dataframe tbody tr th:only-of-type {\n",
       "        vertical-align: middle;\n",
       "    }\n",
       "\n",
       "    .dataframe tbody tr th {\n",
       "        vertical-align: top;\n",
       "    }\n",
       "\n",
       "    .dataframe thead th {\n",
       "        text-align: right;\n",
       "    }\n",
       "</style>\n",
       "<table border=\"1\" class=\"dataframe\">\n",
       "  <thead>\n",
       "    <tr style=\"text-align: right;\">\n",
       "      <th></th>\n",
       "      <th>smart_1_raw</th>\n",
       "      <th>smart_3_raw</th>\n",
       "      <th>smart_4_raw</th>\n",
       "      <th>smart_5_raw</th>\n",
       "      <th>smart_7_raw</th>\n",
       "      <th>smart_12_raw</th>\n",
       "      <th>smart_194_raw</th>\n",
       "      <th>smart_197_raw</th>\n",
       "      <th>smart_198_raw</th>\n",
       "      <th>smart_199_raw</th>\n",
       "      <th>smart_1_normalized</th>\n",
       "      <th>smart_3_normalized</th>\n",
       "      <th>smart_4_normalized</th>\n",
       "      <th>smart_5_normalized</th>\n",
       "      <th>smart_7_normalized</th>\n",
       "      <th>smart_12_normalized</th>\n",
       "      <th>smart_194_normalized</th>\n",
       "      <th>smart_197_normalized</th>\n",
       "      <th>smart_198_normalized</th>\n",
       "      <th>smart_199_normalized</th>\n",
       "    </tr>\n",
       "  </thead>\n",
       "  <tbody>\n",
       "  </tbody>\n",
       "</table>\n",
       "</div>"
      ],
      "text/plain": [
       "Empty DataFrame\n",
       "Columns: [smart_1_raw, smart_3_raw, smart_4_raw, smart_5_raw, smart_7_raw, smart_12_raw, smart_194_raw, smart_197_raw, smart_198_raw, smart_199_raw, smart_1_normalized, smart_3_normalized, smart_4_normalized, smart_5_normalized, smart_7_normalized, smart_12_normalized, smart_194_normalized, smart_197_normalized, smart_198_normalized, smart_199_normalized]\n",
       "Index: []"
      ]
     },
     "execution_count": 7,
     "metadata": {},
     "output_type": "execute_result"
    }
   ],
   "source": [
    "x_curr[x_curr.isnull().any(axis=1)==True]"
   ]
  },
  {
   "cell_type": "code",
   "execution_count": 8,
   "metadata": {},
   "outputs": [],
   "source": [
    "# *** MODELS ***\n",
    "from sklearn.linear_model import LogisticRegression\n",
    "from sklearn import svm\n",
    "from sklearn.ensemble import RandomForestClassifier\n",
    "from sklearn.ensemble import GradientBoostingClassifier\n",
    "from sklearn.naive_bayes import GaussianNB\n",
    "from sklearn.ensemble import AdaBoostClassifier\n",
    "\n",
    "lr1 = LogisticRegression(solver='newton-cg')\n",
    "lr2 = LogisticRegression(solver='lbfgs')\n",
    "lr3 = LogisticRegression(solver='saga')\n",
    "lr4 = LogisticRegression(solver='sag')\n",
    "lr5 = LogisticRegression(solver='liblinear')\n",
    "\n",
    "svm_linear = svm.SVC(kernel='linear', gamma='scale', probability=True)\n",
    "svm_rbf = svm.SVC(kernel='rbf', gamma='scale', probability=True)\n",
    "svm_poly = svm.SVC(kernel='poly', gamma='scale', probability=True)\n",
    "svm_sig = svm.SVC(kernel='sigmoid', gamma='scale', probability=True)\n",
    "\n",
    "rfc = RandomForestClassifier()\n",
    "rfc100 = RandomForestClassifier(n_estimators=100)\n",
    "\n",
    "boost1 = GradientBoostingClassifier(loss='deviance')\n",
    "boost2 = GradientBoostingClassifier(loss='exponential')\n",
    "\n",
    "gnb = GaussianNB()\n",
    "ada = AdaBoostClassifier(gnb, algorithm=\"SAMME\", n_estimators=200,learning_rate=.1)\n",
    "\n",
    "\n",
    "\n",
    "models = [lr1, lr2, lr3, lr4, lr5, svm_linear, svm_rbf, svm_poly, svm_sig, rfc, rfc100, boost1, boost2, gnb, ada]\n",
    "# *** MODELS ***"
   ]
  },
  {
   "cell_type": "code",
   "execution_count": 9,
   "metadata": {},
   "outputs": [],
   "source": [
    "model_results = {}\n",
    "#models = [lr1, lr2, lr3, lr4, lr5, svm_linear, svm_poly, rfc, rfc100, boost1, boost2, gnb, ada]\n",
    "models = [lr1, svm_linear, rfc, rfc100, boost1, boost2, gnb, ada]"
   ]
  },
  {
   "cell_type": "code",
   "execution_count": 103,
   "metadata": {},
   "outputs": [],
   "source": [
    "models = [svm_poly]"
   ]
  },
  {
   "cell_type": "code",
   "execution_count": null,
   "metadata": {},
   "outputs": [
    {
     "name": "stderr",
     "output_type": "stream",
     "text": [
      "C:\\Anaconda3\\lib\\site-packages\\scipy\\optimize\\linesearch.py:461: LineSearchWarning: The line search algorithm did not converge\n",
      "  warn('The line search algorithm did not converge', LineSearchWarning)\n",
      "C:\\Anaconda3\\lib\\site-packages\\scipy\\optimize\\linesearch.py:312: LineSearchWarning: The line search algorithm did not converge\n",
      "  warn('The line search algorithm did not converge', LineSearchWarning)\n"
     ]
    }
   ],
   "source": [
    "# *** RUN MODELS ***\n",
    "\n",
    "for model in models:\n",
    "\n",
    "    model.fit(x_train, y_train)\n",
    "\n",
    "    pred_train = model.predict_proba(x_train)[:,1]\n",
    "    pred_val = model.predict_proba(x_val)[:,1]\n",
    "    \n",
    "    eval_v = evaluation_metrics(pred_val, y_val)\n",
    "    eval_t = evaluation_metrics(pred_train, y_train)\n",
    "    model_results[model] = {}\n",
    "    model_results[model]['train'] = eval_t\n",
    "    model_results[model]['val'] = eval_v\n",
    "    \n",
    "# *** RUN MODELS ***"
   ]
  },
  {
   "cell_type": "code",
   "execution_count": null,
   "metadata": {},
   "outputs": [],
   "source": [
    "import winsound"
   ]
  },
  {
   "cell_type": "code",
   "execution_count": null,
   "metadata": {},
   "outputs": [],
   "source": [
    "winsound.MessageBeep()"
   ]
  },
  {
   "cell_type": "code",
   "execution_count": 107,
   "metadata": {},
   "outputs": [],
   "source": [
    "models_plot = [lr1, rfc, boost2, gnb, ada]"
   ]
  },
  {
   "cell_type": "code",
   "execution_count": 108,
   "metadata": {},
   "outputs": [
    {
     "data": {
      "image/png": "[encoded data removed]",
      "text/plain": [
       "<Figure size 432x288 with 1 Axes>"
      ]
     },
     "metadata": {},
     "output_type": "display_data"
    }
   ],
   "source": [
    "leg = []\n",
    "data = []\n",
    "for (i,model) in enumerate(models_plot):\n",
    "    leg.append(str(model).split('(')[0])\n",
    "    data.append(model_results[model]['val']['roc_auc'])\n",
    "    plt.bar(i, model_results[model]['val']['roc_auc'])\n",
    "plt.legend(leg,bbox_to_anchor=(0., 1.2, 1., .102), loc=3,\n",
    "           ncol=2, mode=\"expand\", borderaxespad=0.)\n",
    "plt.title(\"AUC for Different Models\")\n",
    "plt.show()"
   ]
  },
  {
   "cell_type": "code",
   "execution_count": 109,
   "metadata": {},
   "outputs": [
    {
     "data": {
      "image/png": "[encoded data removed]",
      "text/plain": [
       "<Figure size 432x288 with 1 Axes>"
      ]
     },
     "metadata": {},
     "output_type": "display_data"
    }
   ],
   "source": [
    "leg = []\n",
    "data = []\n",
    "for (i,model) in enumerate(models_plot):\n",
    "    leg.append(str(model).split('(')[0])\n",
    "    data.append(model_results[model]['val']['f1'])\n",
    "    plt.bar(i, model_results[model]['val']['f1'])\n",
    "plt.legend(leg,bbox_to_anchor=(0., 1.2, 1., .102), loc=3,\n",
    "           ncol=2, mode=\"expand\", borderaxespad=0.)\n",
    "plt.title(\"F1 for Different Models\")\n",
    "plt.show()"
   ]
  },
  {
   "cell_type": "code",
   "execution_count": 110,
   "metadata": {},
   "outputs": [
    {
     "data": {
      "image/png": "[encoded data removed]",
      "text/plain": [
       "<Figure size 432x288 with 1 Axes>"
      ]
     },
     "metadata": {},
     "output_type": "display_data"
    }
   ],
   "source": [
    "leg = []\n",
    "data = []\n",
    "for (i,model) in enumerate(models_plot):\n",
    "    leg.append(str(model).split('(')[0])\n",
    "    data.append(model_results[model]['val']['precision'])\n",
    "    plt.bar(i, model_results[model]['val']['precision'])\n",
    "plt.legend(leg,bbox_to_anchor=(0., 1.2, 1., .102), loc=3,\n",
    "           ncol=2, mode=\"expand\", borderaxespad=0.)\n",
    "plt.title(\"Precision for Different Models\")\n",
    "plt.show()"
   ]
  },
  {
   "cell_type": "code",
   "execution_count": 111,
   "metadata": {},
   "outputs": [
    {
     "data": {
      "image/png": "[encoded data removed]",
      "text/plain": [
       "<Figure size 432x288 with 1 Axes>"
      ]
     },
     "metadata": {},
     "output_type": "display_data"
    }
   ],
   "source": [
    "leg = []\n",
    "data = []\n",
    "for (i,model) in enumerate(models_plot):\n",
    "    leg.append(str(model).split('(')[0])\n",
    "    data.append(model_results[model]['val']['recall'])\n",
    "    plt.bar(i, model_results[model]['val']['recall'])\n",
    "plt.legend(leg,bbox_to_anchor=(0., 1.2, 1., .102), loc=3,\n",
    "           ncol=2, mode=\"expand\", borderaxespad=0.)\n",
    "plt.title(\"Recall for Different Models\")\n",
    "plt.show()"
   ]
  },
  {
   "cell_type": "code",
   "execution_count": 112,
   "metadata": {},
   "outputs": [
    {
     "data": {
      "image/png": "[encoded data removed]",
      "text/plain": [
       "<Figure size 432x288 with 1 Axes>"
      ]
     },
     "metadata": {},
     "output_type": "display_data"
    }
   ],
   "source": [
    "leg = []\n",
    "data = []\n",
    "for (i,model) in enumerate(models_plot):\n",
    "    leg.append(str(model).split('(')[0])\n",
    "    data.append(model_results[model]['val']['accuracy'])\n",
    "    plt.bar(i, model_results[model]['val']['accuracy'])\n",
    "plt.legend(leg,bbox_to_anchor=(0., 1.2, 1., .102), loc=3,\n",
    "           ncol=2, mode=\"expand\", borderaxespad=0.)\n",
    "plt.title(\"Accuracy for Different Models\")\n",
    "plt.show()"
   ]
  },
  {
   "cell_type": "code",
   "execution_count": 113,
   "metadata": {},
   "outputs": [
    {
     "data": {
      "image/png": "[encoded data removed]",
      "text/plain": [
       "<Figure size 432x288 with 1 Axes>"
      ]
     },
     "metadata": {},
     "output_type": "display_data"
    }
   ],
   "source": [
    "data_t = []\n",
    "data_v = []\n",
    "for (i,model) in enumerate(models_plot):\n",
    "    data_t.append(model_results[model]['train']['roc_auc'])\n",
    "    data_v.append(model_results[model]['val']['roc_auc'])\n",
    "plt.bar([3*i for i in range(len(models_plot))], data_t)\n",
    "plt.bar([3*i+1 for i in range(len(models_plot))], data_v)\n",
    "plt.xticks(np.arange(0,3*len(models_plot),3), [str(m).split('(')[0] for m in models_plot],\n",
    "          rotation='vertical')\n",
    "plt.legend([\"Training\",\"Testing\"],bbox_to_anchor=(0., 1.2, 1., .102), loc=3,\n",
    "           ncol=2, mode=\"expand\", borderaxespad=0.)\n",
    "plt.title(\"AUC for Different Models at Train and Test Time\")\n",
    "plt.show()"
   ]
  },
  {
   "cell_type": "code",
   "execution_count": 114,
   "metadata": {},
   "outputs": [
    {
     "data": {
      "image/png": "[encoded data removed]",
      "text/plain": [
       "<Figure size 432x288 with 1 Axes>"
      ]
     },
     "metadata": {},
     "output_type": "display_data"
    }
   ],
   "source": [
    "data_t = []\n",
    "data_v = []\n",
    "for (i,model) in enumerate(models_plot):\n",
    "    data_t.append(model_results[model]['train']['accuracy'])\n",
    "    data_v.append(model_results[model]['val']['accuracy'])\n",
    "plt.bar([3*i for i in range(len(models_plot))], data_t)\n",
    "plt.bar([3*i+1 for i in range(len(models_plot))], data_v)\n",
    "plt.xticks(np.arange(0,3*len(models_plot),3), [str(m).split('(')[0] for m in models_plot],\n",
    "          rotation='vertical')\n",
    "plt.legend([\"Training\",\"Testing\"],bbox_to_anchor=(0., 1.2, 1., .102), loc=3,\n",
    "           ncol=2, mode=\"expand\", borderaxespad=0.)\n",
    "plt.title(\"Accuracy for Different Models at Train and Test Time\")\n",
    "plt.show()"
   ]
  },
  {
   "cell_type": "code",
   "execution_count": 115,
   "metadata": {},
   "outputs": [
    {
     "data": {
      "text/plain": [
       "array(['HGST HUH728080ALE600', 'Hitachi HDS5C3030ALA630',\n",
       "       'Hitachi HDS722020ALA330', 'ST4000DM000', 'TOSHIBA DT01ACA300',\n",
       "       'ST31500541AS', 'ST6000DX000', 'Hitachi HDS5C4040ALE630',\n",
       "       'HGST HMS5C4040ALE640', 'ST500LM012 HN', 'ST3000DM001',\n",
       "       'Hitachi HDS723030ALA640', 'HGST HMS5C4040BLE640', 'WDC WD30EFRX',\n",
       "       'HGST HDS5C4040ALE630', 'ST31500341AS', 'ST9250315AS',\n",
       "       'WDC WD800AAJB', 'WDC WD10EACS', 'TOSHIBA MD04ABA400V',\n",
       "       'ST4000DX000', 'ST250LM004 HN', 'WDC WD10EADS', 'WDC WD1600AAJS',\n",
       "       'ST9320325AS', 'WDC WD60EFRX', 'WDC WD5000LPVX', 'ST3160316AS',\n",
       "       'WDC WD40EFRX', 'ST33000651AS', 'HGST HDS724040ALE640',\n",
       "       'WDC WD20EFRX', 'ST32000542AS', 'WDC WD5000BPKT', 'WDC WD800JB',\n",
       "       'WDC WD800LB', 'ST3500320AS', 'WDC WD10EADX', 'WDC WD2500BPVT',\n",
       "       'WDC WD800BB', 'ST320LT007', 'Hitachi HDS723030BLE640',\n",
       "       'ST2000VN000', 'WDC WD3200BEKT', 'WDC WD10EARS', 'ST1500DL003',\n",
       "       'WDC WD3200BEKX', 'ST3160318AS', 'WDC WD3200AAJS', 'ST250LT007',\n",
       "       'WDC WD2500AAJS', 'ST320005XXXX', 'TOSHIBA MD04ABA500V',\n",
       "       'WDC WD1600AAJB', 'Hitachi HDS723020BLA642', 'WDC WD1600BPVT'],\n",
       "      dtype=object)"
      ]
     },
     "execution_count": 115,
     "metadata": {},
     "output_type": "execute_result"
    }
   ],
   "source": [
    "data_curr.model.unique()"
   ]
  },
  {
   "cell_type": "code",
   "execution_count": 116,
   "metadata": {},
   "outputs": [
    {
     "name": "stdout",
     "output_type": "stream",
     "text": [
      "LogisticRegression(C=1.0, class_weight=None, dual=False, fit_intercept=True,\n",
      "          intercept_scaling=1, max_iter=100, multi_class='warn',\n",
      "          n_jobs=None, penalty='l2', random_state=None, solver='newton-cg',\n",
      "          tol=0.0001, verbose=0, warm_start=False)\n",
      "0.22245770435958437\n",
      "0.22127950052330828\n",
      "RandomForestClassifier(bootstrap=True, class_weight=None, criterion='gini',\n",
      "            max_depth=None, max_features='auto', max_leaf_nodes=None,\n",
      "            min_impurity_decrease=0.0, min_impurity_split=None,\n",
      "            min_samples_leaf=1, min_samples_split=2,\n",
      "            min_weight_fraction_leaf=0.0, n_estimators=10, n_jobs=None,\n",
      "            oob_score=False, random_state=None, verbose=0,\n",
      "            warm_start=False)\n",
      "0.028299233392416294\n",
      "0.1286185795910524\n",
      "SVC(C=1.0, cache_size=200, class_weight=None, coef0=0.0,\n",
      "  decision_function_shape='ovr', degree=3, gamma='scale', kernel='poly',\n",
      "  max_iter=-1, probability=True, random_state=None, shrinking=True,\n",
      "  tol=0.001, verbose=False)\n",
      "0.24855127948599473\n",
      "0.24918356466835884\n",
      "GradientBoostingClassifier(criterion='friedman_mse', init=None,\n",
      "              learning_rate=0.1, loss='exponential', max_depth=3,\n",
      "              max_features=None, max_leaf_nodes=None,\n",
      "              min_impurity_decrease=0.0, min_impurity_split=None,\n",
      "              min_samples_leaf=1, min_samples_split=2,\n",
      "              min_weight_fraction_leaf=0.0, n_estimators=100,\n",
      "              n_iter_no_change=None, presort='auto', random_state=None,\n",
      "              subsample=1.0, tol=0.0001, validation_fraction=0.1,\n",
      "              verbose=0, warm_start=False)\n",
      "0.12808023567502133\n",
      "0.1446231460173518\n",
      "GaussianNB(priors=None, var_smoothing=1e-09)\n",
      "0.3662453562454573\n",
      "0.3526137857107614\n",
      "AdaBoostClassifier(algorithm='SAMME',\n",
      "          base_estimator=GaussianNB(priors=None, var_smoothing=1e-09),\n",
      "          learning_rate=0.1, n_estimators=200, random_state=None)\n",
      "0.2421334923072579\n",
      "0.23595804291609143\n"
     ]
    }
   ],
   "source": [
    "# *** RUN MODELS ***\n",
    "\n",
    "for model in models_plot:\n",
    "    pred_train = model.predict_proba(x_train)[:,1]\n",
    "    pred_val = model.predict_proba(x_val)[:,1]\n",
    "    \n",
    "    print(model)\n",
    "    print(mean_squared_error(y_train,pred_train))\n",
    "    print(mean_squared_error(y_val,pred_val))\n",
    "    \n",
    "# *** RUN MODELS ***"
   ]
  },
  {
   "cell_type": "code",
   "execution_count": 8,
   "metadata": {},
   "outputs": [
    {
     "ename": "OSError",
     "evalue": "[WinError 126] The specified module could not be found",
     "output_type": "error",
     "traceback": [
      "\u001b[1;31m---------------------------------------------------------------------------\u001b[0m",
      "\u001b[1;31mOSError\u001b[0m                                   Traceback (most recent call last)",
      "\u001b[1;32m<ipython-input-8-e0ef61bd9b59>\u001b[0m in \u001b[0;36m<module>\u001b[1;34m()\u001b[0m\n\u001b[0;32m      1\u001b[0m \u001b[1;31m# *** SPECIAL MODEL: xgboost ***\u001b[0m\u001b[1;33m\u001b[0m\u001b[1;33m\u001b[0m\u001b[0m\n\u001b[1;32m----> 2\u001b[1;33m \u001b[1;32mfrom\u001b[0m \u001b[0mxgboost\u001b[0m \u001b[1;32mimport\u001b[0m \u001b[0mXGBClassifier\u001b[0m\u001b[1;33m\u001b[0m\u001b[0m\n\u001b[0m\u001b[0;32m      3\u001b[0m \u001b[1;33m\u001b[0m\u001b[0m\n\u001b[0;32m      4\u001b[0m xgb = XGBClassifier(objective ='reg:linear', \n\u001b[0;32m      5\u001b[0m                              \u001b[0mmax_depth\u001b[0m \u001b[1;33m=\u001b[0m \u001b[1;36m10\u001b[0m\u001b[1;33m,\u001b[0m\u001b[1;33m\u001b[0m\u001b[0m\n",
      "\u001b[1;32mC:\\Anaconda3\\lib\\site-packages\\xgboost\\__init__.py\u001b[0m in \u001b[0;36m<module>\u001b[1;34m()\u001b[0m\n\u001b[0;32m      9\u001b[0m \u001b[1;32mimport\u001b[0m \u001b[0mos\u001b[0m\u001b[1;33m\u001b[0m\u001b[0m\n\u001b[0;32m     10\u001b[0m \u001b[1;33m\u001b[0m\u001b[0m\n\u001b[1;32m---> 11\u001b[1;33m \u001b[1;32mfrom\u001b[0m \u001b[1;33m.\u001b[0m\u001b[0mcore\u001b[0m \u001b[1;32mimport\u001b[0m \u001b[0mDMatrix\u001b[0m\u001b[1;33m,\u001b[0m \u001b[0mBooster\u001b[0m\u001b[1;33m\u001b[0m\u001b[0m\n\u001b[0m\u001b[0;32m     12\u001b[0m \u001b[1;32mfrom\u001b[0m \u001b[1;33m.\u001b[0m\u001b[0mtraining\u001b[0m \u001b[1;32mimport\u001b[0m \u001b[0mtrain\u001b[0m\u001b[1;33m,\u001b[0m \u001b[0mcv\u001b[0m\u001b[1;33m\u001b[0m\u001b[0m\n\u001b[0;32m     13\u001b[0m \u001b[1;32mfrom\u001b[0m \u001b[1;33m.\u001b[0m \u001b[1;32mimport\u001b[0m \u001b[0mrabit\u001b[0m                   \u001b[1;31m# noqa\u001b[0m\u001b[1;33m\u001b[0m\u001b[0m\n",
      "\u001b[1;32mC:\\Anaconda3\\lib\\site-packages\\xgboost\\core.py\u001b[0m in \u001b[0;36m<module>\u001b[1;34m()\u001b[0m\n\u001b[0;32m    113\u001b[0m \u001b[1;33m\u001b[0m\u001b[0m\n\u001b[0;32m    114\u001b[0m \u001b[1;31m# load the XGBoost library globally\u001b[0m\u001b[1;33m\u001b[0m\u001b[1;33m\u001b[0m\u001b[0m\n\u001b[1;32m--> 115\u001b[1;33m \u001b[0m_LIB\u001b[0m \u001b[1;33m=\u001b[0m \u001b[0m_load_lib\u001b[0m\u001b[1;33m(\u001b[0m\u001b[1;33m)\u001b[0m\u001b[1;33m\u001b[0m\u001b[0m\n\u001b[0m\u001b[0;32m    116\u001b[0m \u001b[1;33m\u001b[0m\u001b[0m\n\u001b[0;32m    117\u001b[0m \u001b[1;33m\u001b[0m\u001b[0m\n",
      "\u001b[1;32mC:\\Anaconda3\\lib\\site-packages\\xgboost\\core.py\u001b[0m in \u001b[0;36m_load_lib\u001b[1;34m()\u001b[0m\n\u001b[0;32m    107\u001b[0m     \u001b[1;32mif\u001b[0m \u001b[0mlen\u001b[0m\u001b[1;33m(\u001b[0m\u001b[0mlib_path\u001b[0m\u001b[1;33m)\u001b[0m \u001b[1;33m==\u001b[0m \u001b[1;36m0\u001b[0m\u001b[1;33m:\u001b[0m\u001b[1;33m\u001b[0m\u001b[0m\n\u001b[0;32m    108\u001b[0m         \u001b[1;32mreturn\u001b[0m \u001b[1;32mNone\u001b[0m\u001b[1;33m\u001b[0m\u001b[0m\n\u001b[1;32m--> 109\u001b[1;33m     \u001b[0mlib\u001b[0m \u001b[1;33m=\u001b[0m \u001b[0mctypes\u001b[0m\u001b[1;33m.\u001b[0m\u001b[0mcdll\u001b[0m\u001b[1;33m.\u001b[0m\u001b[0mLoadLibrary\u001b[0m\u001b[1;33m(\u001b[0m\u001b[0mlib_path\u001b[0m\u001b[1;33m[\u001b[0m\u001b[1;36m0\u001b[0m\u001b[1;33m]\u001b[0m\u001b[1;33m)\u001b[0m\u001b[1;33m\u001b[0m\u001b[0m\n\u001b[0m\u001b[0;32m    110\u001b[0m     \u001b[0mlib\u001b[0m\u001b[1;33m.\u001b[0m\u001b[0mXGBGetLastError\u001b[0m\u001b[1;33m.\u001b[0m\u001b[0mrestype\u001b[0m \u001b[1;33m=\u001b[0m \u001b[0mctypes\u001b[0m\u001b[1;33m.\u001b[0m\u001b[0mc_char_p\u001b[0m\u001b[1;33m\u001b[0m\u001b[0m\n\u001b[0;32m    111\u001b[0m     \u001b[1;32mreturn\u001b[0m \u001b[0mlib\u001b[0m\u001b[1;33m\u001b[0m\u001b[0m\n",
      "\u001b[1;32mC:\\Anaconda3\\lib\\ctypes\\__init__.py\u001b[0m in \u001b[0;36mLoadLibrary\u001b[1;34m(self, name)\u001b[0m\n\u001b[0;32m    427\u001b[0m \u001b[1;33m\u001b[0m\u001b[0m\n\u001b[0;32m    428\u001b[0m     \u001b[1;32mdef\u001b[0m \u001b[0mLoadLibrary\u001b[0m\u001b[1;33m(\u001b[0m\u001b[0mself\u001b[0m\u001b[1;33m,\u001b[0m \u001b[0mname\u001b[0m\u001b[1;33m)\u001b[0m\u001b[1;33m:\u001b[0m\u001b[1;33m\u001b[0m\u001b[0m\n\u001b[1;32m--> 429\u001b[1;33m         \u001b[1;32mreturn\u001b[0m \u001b[0mself\u001b[0m\u001b[1;33m.\u001b[0m\u001b[0m_dlltype\u001b[0m\u001b[1;33m(\u001b[0m\u001b[0mname\u001b[0m\u001b[1;33m)\u001b[0m\u001b[1;33m\u001b[0m\u001b[0m\n\u001b[0m\u001b[0;32m    430\u001b[0m \u001b[1;33m\u001b[0m\u001b[0m\n\u001b[0;32m    431\u001b[0m \u001b[0mcdll\u001b[0m \u001b[1;33m=\u001b[0m \u001b[0mLibraryLoader\u001b[0m\u001b[1;33m(\u001b[0m\u001b[0mCDLL\u001b[0m\u001b[1;33m)\u001b[0m\u001b[1;33m\u001b[0m\u001b[0m\n",
      "\u001b[1;32mC:\\Anaconda3\\lib\\ctypes\\__init__.py\u001b[0m in \u001b[0;36m__init__\u001b[1;34m(self, name, mode, handle, use_errno, use_last_error)\u001b[0m\n\u001b[0;32m    349\u001b[0m \u001b[1;33m\u001b[0m\u001b[0m\n\u001b[0;32m    350\u001b[0m         \u001b[1;32mif\u001b[0m \u001b[0mhandle\u001b[0m \u001b[1;32mis\u001b[0m \u001b[1;32mNone\u001b[0m\u001b[1;33m:\u001b[0m\u001b[1;33m\u001b[0m\u001b[0m\n\u001b[1;32m--> 351\u001b[1;33m             \u001b[0mself\u001b[0m\u001b[1;33m.\u001b[0m\u001b[0m_handle\u001b[0m \u001b[1;33m=\u001b[0m \u001b[0m_dlopen\u001b[0m\u001b[1;33m(\u001b[0m\u001b[0mself\u001b[0m\u001b[1;33m.\u001b[0m\u001b[0m_name\u001b[0m\u001b[1;33m,\u001b[0m \u001b[0mmode\u001b[0m\u001b[1;33m)\u001b[0m\u001b[1;33m\u001b[0m\u001b[0m\n\u001b[0m\u001b[0;32m    352\u001b[0m         \u001b[1;32melse\u001b[0m\u001b[1;33m:\u001b[0m\u001b[1;33m\u001b[0m\u001b[0m\n\u001b[0;32m    353\u001b[0m             \u001b[0mself\u001b[0m\u001b[1;33m.\u001b[0m\u001b[0m_handle\u001b[0m \u001b[1;33m=\u001b[0m \u001b[0mhandle\u001b[0m\u001b[1;33m\u001b[0m\u001b[0m\n",
      "\u001b[1;31mOSError\u001b[0m: [WinError 126] The specified module could not be found"
     ]
    }
   ],
   "source": [
    "# *** SPECIAL MODEL: xgboost ***\n",
    "from xgboost import XGBClassifier\n",
    "\n",
    "xgb = XGBClassifier(objective ='reg:linear', \n",
    "                             max_depth = 10,\n",
    "                             silent = 1,\n",
    "                             learning_rate = 0.05,\n",
    "                             n_estimators = 1000)\n",
    "\n",
    "eval_set = [(x_val, y_val)]\n",
    "\n",
    "#TODO eval set should be sepearte from Test set!!!\n",
    "\n",
    "xgb.fit(x_train, y_train, early_stopping_rounds=100,eval_metric= 'logloss', eval_set=eval_set)\n",
    "\n",
    "pred_train = model.predict_proba(x_train)[:,1]\n",
    "pred_val = model.predict_proba(x_val)[:,1]\n",
    "\n",
    "# pred_future = svm_linear.predict_proba(x_future)[:,1]\n",
    "# pred_train\n",
    "\n",
    "eval = evaluation_metrics(pred_val, y_val)\n",
    "print(\"Trained:  \", model)\n",
    "print(\"Precision:\", eval['precision'])\n",
    "print(\"Recall:   \", eval['recall'])\n",
    "print(\"Accuracy: \", eval['accuracy'])\n",
    "print(\"F1-Score: \", eval['f1'])\n",
    "print(\"AuC:      \", eval['roc_auc'])\n",
    "print(\"\")\n",
    "\n",
    "# *** SPECIAL MODEL: xgboost ***"
   ]
  },
  {
   "cell_type": "code",
   "execution_count": 26,
   "metadata": {},
   "outputs": [
    {
     "name": "stdout",
     "output_type": "stream",
     "text": [
      "[1]\tvalid_0's binary_logloss: 0.671665\n",
      "[2]\tvalid_0's binary_logloss: 0.654115\n",
      "[3]\tvalid_0's binary_logloss: 0.639752\n",
      "[4]\tvalid_0's binary_logloss: 0.628685\n",
      "[5]\tvalid_0's binary_logloss: 0.618385\n",
      "[6]\tvalid_0's binary_logloss: 0.609147\n",
      "[7]\tvalid_0's binary_logloss: 0.600441\n",
      "[8]\tvalid_0's binary_logloss: 0.594815\n",
      "[9]\tvalid_0's binary_logloss: 0.589284\n",
      "[10]\tvalid_0's binary_logloss: 0.585423\n",
      "Classification Report: \n",
      "              precision    recall  f1-score   support\n",
      "\n",
      "          0       0.69      0.61      0.65       296\n",
      "          1       0.63      0.71      0.67       276\n",
      "\n",
      "avg / total       0.66      0.66      0.66       572\n",
      "\n",
      "Confusion Matrix: \n",
      " [[180 116]\n",
      " [ 79 197]]\n",
      "\n",
      "Accuracy 0.6590909090909091\n"
     ]
    }
   ],
   "source": [
    "import lightgbm as lgb\n",
    "from sklearn.metrics import confusion_matrix, mean_absolute_error,accuracy_score\n",
    "from sklearn.metrics import classification_report\n",
    "\n",
    "X_train, X_test, y_train, y_test = train_test_split(x_curr, y_curr, test_size=0.2)\n",
    "\n",
    "X_train, X_val, y_train, y_val = train_test_split(X_train, y_train, test_size=0.2)\n",
    "eval_set = lgb.Dataset(X_val, label=y_val)\n",
    "param = {'objective':'binary'}\n",
    "train_data = lgb.Dataset(X_train, label=y_train, params=param)\n",
    "\n",
    "num_round = 10\n",
    "bst = lgb.train(params=param, train_set=train_data, num_boost_round=10, valid_sets=[eval_set])\n",
    "y_pred = bst.predict(X_test)>.5\n",
    "print(\"Classification Report: \\n\", classification_report(y_test, y_pred))\n",
    "print(\"Confusion Matrix: \\n\", confusion_matrix(y_test, y_pred))\n",
    "accuracy = accuracy_score(y_test, y_pred)\n",
    "print(\"\\nAccuracy\",accuracy)"
   ]
  },
  {
   "cell_type": "code",
   "execution_count": 38,
   "metadata": {},
   "outputs": [
    {
     "data": {
      "text/plain": [
       "model\n",
       "HGST HDS5C4040ALE630         3\n",
       "HGST HMS5C4040ALE640       207\n",
       "HGST HMS5C4040BLE640        98\n",
       "HGST HUH728080ALE600         2\n",
       "Hitachi HDS5C3030ALA630    131\n",
       "Hitachi HDS5C4040ALE630     82\n",
       "Hitachi HDS722020ALA330    130\n",
       "Hitachi HDS723030ALA640     38\n",
       "ST2000VN000                  1\n",
       "ST250LM004 HN                3\n",
       "ST3000DM001                 12\n",
       "ST31500341AS                 4\n",
       "ST31500541AS                36\n",
       "ST3160316AS                  2\n",
       "ST3160318AS                  1\n",
       "ST33000651AS                 6\n",
       "ST4000DM000                554\n",
       "ST4000DX000                  2\n",
       "ST500LM012 HN                7\n",
       "ST6000DX000                 34\n",
       "ST9250315AS                  4\n",
       "TOSHIBA DT01ACA300           1\n",
       "TOSHIBA MD04ABA400V          3\n",
       "WDC WD10EADS                 5\n",
       "WDC WD10EADX                 1\n",
       "WDC WD20EFRX                 3\n",
       "WDC WD30EFRX                33\n",
       "WDC WD3200AAJS               1\n",
       "WDC WD40EFRX                 1\n",
       "WDC WD5000LPVX              12\n",
       "WDC WD60EFRX                11\n",
       "WDC WD800AAJB                1\n",
       "Name: date, dtype: int64"
      ]
     },
     "execution_count": 38,
     "metadata": {},
     "output_type": "execute_result"
    }
   ],
   "source": [
    "nominal_sample.groupby('model').date.count()"
   ]
  },
  {
   "cell_type": "code",
   "execution_count": 51,
   "metadata": {},
   "outputs": [],
   "source": []
  }
 ],
 "metadata": {
  "kernelspec": {
   "display_name": "Python [Anaconda3]",
   "language": "python",
   "name": "Python [Anaconda3]"
  },
  "language_info": {
   "codemirror_mode": {
    "name": "ipython",
    "version": 3
   },
   "file_extension": ".py",
   "mimetype": "text/x-python",
   "name": "python",
   "nbconvert_exporter": "python",
   "pygments_lexer": "ipython3",
   "version": "3.5.4"
  }
 },
 "nbformat": 4,
 "nbformat_minor": 2
}
