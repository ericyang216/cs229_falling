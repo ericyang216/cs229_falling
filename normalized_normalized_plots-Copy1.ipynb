{
 "cells": [
  {
   "cell_type": "code",
   "execution_count": 1,
   "metadata": {},
   "outputs": [],
   "source": [
    "import pandas as pd\n",
    "import numpy as np\n",
    "import matplotlib.pyplot as plt\n",
    "%matplotlib inline\n",
    "from sklearn.metrics import precision_score\n",
    "from sklearn.metrics import recall_score\n",
    "from sklearn.metrics import accuracy_score\n",
    "from sklearn.metrics import f1_score\n",
    "from sklearn.metrics import roc_curve, auc\n",
    "from sklearn.metrics import mean_squared_error\n",
    "\n",
    "def evaluation_metrics(y_pred, y_label, thresh=0.5):\n",
    "    true_pos = []\n",
    "    true_neg = []\n",
    "    false_pos = []\n",
    "    false_neg = []\n",
    "\n",
    "    for i in range(len(y_pred)):\n",
    "        if y_label[i] < thresh and y_pred[i] < thresh:\n",
    "            true_neg.append(i)\n",
    "        elif y_label[i] > thresh and y_pred[i] > thresh:\n",
    "            true_pos.append(i)\n",
    "        elif y_label[i] < thresh and y_pred[i] > thresh:\n",
    "            false_pos.append(i)\n",
    "        elif y_label[i] > thresh and y_pred[i] < thresh:\n",
    "            false_neg.append(i)\n",
    "\n",
    "    TP = len(true_pos)\n",
    "    TN = len(true_neg)\n",
    "    FP = len(false_pos)\n",
    "    FN = len(false_neg)\n",
    "\n",
    "    fpr, tpr, thresholds = roc_curve(y_label, y_pred, pos_label=1)\n",
    "\n",
    "    eval = \\\n",
    "    {\n",
    "        'accuracy'  : (TP + TN) / (TP + TN + TN + FN) if (TP + TN + TN + FN) > 0 else 0, \n",
    "        'precision' : TP / (TP + FP) if (TP + FP) > 0 else 0,\n",
    "        'recall'    : TP / (TP + FN) if (TP + FN) > 0 else 0,\n",
    "        'f1'        : (2*TP) / (2*TP + FP + FN) if (TP + FP + FN) > 0 else 0,\n",
    "        'roc_auc'   : auc(fpr, tpr),\n",
    "        'fpr'       : fpr,\n",
    "        'tpr'       : tpr\n",
    "    }\n",
    "\n",
    "    return eval"
   ]
  },
  {
   "cell_type": "code",
   "execution_count": 2,
   "metadata": {},
   "outputs": [],
   "source": [
    "# *** LOAD DATA *** \n",
    "from sklearn.model_selection import train_test_split\n",
    "\n",
    "nominal_sample = pd.read_csv('2015_sample.csv')\n",
    "failure_sample = pd.read_csv('2015_failures.csv')\n",
    "\n",
    "# For further testing on data from the future\n",
    "#future_nominal = pd.read_csv('2018_q1_sample.csv')\n",
    "#future_failure = pd.read_csv('2018_q1_failures.csv')\n",
    "\n",
    "nominal_sample = nominal_sample.dropna(axis=0, thresh=20).dropna(axis=1)\n",
    "failure_sample = failure_sample.dropna(axis=0, thresh=20).dropna(axis=1)\n",
    "\n",
    "feature_columns = [ 'smart_1_normalized', 'smart_3_normalized', 'smart_4_normalized', 'smart_5_normalized',\n",
    "           'smart_7_normalized','smart_12_normalized', 'smart_194_normalized', \n",
    "           'smart_197_normalized', 'smart_198_normalized', 'smart_199_normalized']\n",
    "\n",
    "data_curr = pd.concat([nominal_sample, failure_sample])"
   ]
  },
  {
   "cell_type": "code",
   "execution_count": 3,
   "metadata": {},
   "outputs": [
    {
     "name": "stderr",
     "output_type": "stream",
     "text": [
      "C:\\Anaconda3\\lib\\site-packages\\sklearn\\model_selection\\_split.py:2069: FutureWarning: From version 0.21, test_size will always complement train_size unless both are specified.\n",
      "  FutureWarning)\n"
     ]
    }
   ],
   "source": [
    "y_curr = data_curr['failure']\n",
    "x_train, x_val, y_train, y_val = train_test_split(data_curr, y_curr, train_size=0.8, random_state=1)"
   ]
  },
  {
   "cell_type": "code",
   "execution_count": 4,
   "metadata": {},
   "outputs": [
    {
     "data": {
      "text/html": [
       "<div>\n",
       "<style scoped>\n",
       "    .dataframe tbody tr th:only-of-type {\n",
       "        vertical-align: middle;\n",
       "    }\n",
       "\n",
       "    .dataframe tbody tr th {\n",
       "        vertical-align: top;\n",
       "    }\n",
       "\n",
       "    .dataframe thead th {\n",
       "        text-align: right;\n",
       "    }\n",
       "</style>\n",
       "<table border=\"1\" class=\"dataframe\">\n",
       "  <thead>\n",
       "    <tr style=\"text-align: right;\">\n",
       "      <th></th>\n",
       "      <th>date</th>\n",
       "      <th>serial_number</th>\n",
       "      <th>model</th>\n",
       "      <th>capacity_bytes</th>\n",
       "      <th>failure</th>\n",
       "      <th>smart_1_normalized</th>\n",
       "      <th>smart_1_raw</th>\n",
       "      <th>smart_3_normalized</th>\n",
       "      <th>smart_3_raw</th>\n",
       "      <th>smart_4_normalized</th>\n",
       "      <th>...</th>\n",
       "      <th>smart_12_normalized</th>\n",
       "      <th>smart_12_raw</th>\n",
       "      <th>smart_194_normalized</th>\n",
       "      <th>smart_194_raw</th>\n",
       "      <th>smart_197_normalized</th>\n",
       "      <th>smart_197_raw</th>\n",
       "      <th>smart_198_normalized</th>\n",
       "      <th>smart_198_raw</th>\n",
       "      <th>smart_199_normalized</th>\n",
       "      <th>smart_199_raw</th>\n",
       "    </tr>\n",
       "  </thead>\n",
       "  <tbody>\n",
       "    <tr>\n",
       "      <th>680</th>\n",
       "      <td>2015-01-21</td>\n",
       "      <td>Z302624B</td>\n",
       "      <td>ST4000DM000</td>\n",
       "      <td>4.000787e+12</td>\n",
       "      <td>0</td>\n",
       "      <td>114.0</td>\n",
       "      <td>78740800.0</td>\n",
       "      <td>98.0</td>\n",
       "      <td>0.0</td>\n",
       "      <td>100.0</td>\n",
       "      <td>...</td>\n",
       "      <td>100.0</td>\n",
       "      <td>2.0</td>\n",
       "      <td>18.0</td>\n",
       "      <td>18.0</td>\n",
       "      <td>100.0</td>\n",
       "      <td>0.0</td>\n",
       "      <td>100.0</td>\n",
       "      <td>0.0</td>\n",
       "      <td>200.0</td>\n",
       "      <td>0.0</td>\n",
       "    </tr>\n",
       "    <tr>\n",
       "      <th>200</th>\n",
       "      <td>5/21/15</td>\n",
       "      <td>Z300KGTL</td>\n",
       "      <td>ST4000DM000</td>\n",
       "      <td>4.000790e+12</td>\n",
       "      <td>1</td>\n",
       "      <td>116.0</td>\n",
       "      <td>114062824.0</td>\n",
       "      <td>91.0</td>\n",
       "      <td>0.0</td>\n",
       "      <td>100.0</td>\n",
       "      <td>...</td>\n",
       "      <td>100.0</td>\n",
       "      <td>8.0</td>\n",
       "      <td>30.0</td>\n",
       "      <td>30.0</td>\n",
       "      <td>100.0</td>\n",
       "      <td>0.0</td>\n",
       "      <td>100.0</td>\n",
       "      <td>0.0</td>\n",
       "      <td>200.0</td>\n",
       "      <td>0.0</td>\n",
       "    </tr>\n",
       "    <tr>\n",
       "      <th>56</th>\n",
       "      <td>2015-03-03</td>\n",
       "      <td>5XW033AT</td>\n",
       "      <td>ST31500541AS</td>\n",
       "      <td>1.500302e+12</td>\n",
       "      <td>0</td>\n",
       "      <td>120.0</td>\n",
       "      <td>243190558.0</td>\n",
       "      <td>100.0</td>\n",
       "      <td>0.0</td>\n",
       "      <td>100.0</td>\n",
       "      <td>...</td>\n",
       "      <td>100.0</td>\n",
       "      <td>65.0</td>\n",
       "      <td>30.0</td>\n",
       "      <td>30.0</td>\n",
       "      <td>100.0</td>\n",
       "      <td>0.0</td>\n",
       "      <td>100.0</td>\n",
       "      <td>0.0</td>\n",
       "      <td>200.0</td>\n",
       "      <td>0.0</td>\n",
       "    </tr>\n",
       "    <tr>\n",
       "      <th>208</th>\n",
       "      <td>2015-10-10</td>\n",
       "      <td>MJ1311YNG3EVWA</td>\n",
       "      <td>Hitachi HDS5C3030ALA630</td>\n",
       "      <td>3.000593e+12</td>\n",
       "      <td>0</td>\n",
       "      <td>100.0</td>\n",
       "      <td>0.0</td>\n",
       "      <td>123.0</td>\n",
       "      <td>567.0</td>\n",
       "      <td>100.0</td>\n",
       "      <td>...</td>\n",
       "      <td>100.0</td>\n",
       "      <td>15.0</td>\n",
       "      <td>230.0</td>\n",
       "      <td>26.0</td>\n",
       "      <td>100.0</td>\n",
       "      <td>0.0</td>\n",
       "      <td>100.0</td>\n",
       "      <td>0.0</td>\n",
       "      <td>200.0</td>\n",
       "      <td>19.0</td>\n",
       "    </tr>\n",
       "    <tr>\n",
       "      <th>963</th>\n",
       "      <td>4/9/15</td>\n",
       "      <td>Z300ZR02</td>\n",
       "      <td>ST4000DM000</td>\n",
       "      <td>4.000790e+12</td>\n",
       "      <td>1</td>\n",
       "      <td>115.0</td>\n",
       "      <td>242487744.0</td>\n",
       "      <td>92.0</td>\n",
       "      <td>0.0</td>\n",
       "      <td>100.0</td>\n",
       "      <td>...</td>\n",
       "      <td>100.0</td>\n",
       "      <td>8.0</td>\n",
       "      <td>30.0</td>\n",
       "      <td>30.0</td>\n",
       "      <td>100.0</td>\n",
       "      <td>0.0</td>\n",
       "      <td>100.0</td>\n",
       "      <td>0.0</td>\n",
       "      <td>200.0</td>\n",
       "      <td>0.0</td>\n",
       "    </tr>\n",
       "  </tbody>\n",
       "</table>\n",
       "<p>5 rows × 29 columns</p>\n",
       "</div>"
      ],
      "text/plain": [
       "           date   serial_number                    model  capacity_bytes  \\\n",
       "680  2015-01-21        Z302624B              ST4000DM000    4.000787e+12   \n",
       "200     5/21/15        Z300KGTL              ST4000DM000    4.000790e+12   \n",
       "56   2015-03-03        5XW033AT             ST31500541AS    1.500302e+12   \n",
       "208  2015-10-10  MJ1311YNG3EVWA  Hitachi HDS5C3030ALA630    3.000593e+12   \n",
       "963      4/9/15        Z300ZR02              ST4000DM000    4.000790e+12   \n",
       "\n",
       "     failure  smart_1_normalized  smart_1_raw  smart_3_normalized  \\\n",
       "680        0               114.0   78740800.0                98.0   \n",
       "200        1               116.0  114062824.0                91.0   \n",
       "56         0               120.0  243190558.0               100.0   \n",
       "208        0               100.0          0.0               123.0   \n",
       "963        1               115.0  242487744.0                92.0   \n",
       "\n",
       "     smart_3_raw  smart_4_normalized      ...        smart_12_normalized  \\\n",
       "680          0.0               100.0      ...                      100.0   \n",
       "200          0.0               100.0      ...                      100.0   \n",
       "56           0.0               100.0      ...                      100.0   \n",
       "208        567.0               100.0      ...                      100.0   \n",
       "963          0.0               100.0      ...                      100.0   \n",
       "\n",
       "     smart_12_raw  smart_194_normalized  smart_194_raw  smart_197_normalized  \\\n",
       "680           2.0                  18.0           18.0                 100.0   \n",
       "200           8.0                  30.0           30.0                 100.0   \n",
       "56           65.0                  30.0           30.0                 100.0   \n",
       "208          15.0                 230.0           26.0                 100.0   \n",
       "963           8.0                  30.0           30.0                 100.0   \n",
       "\n",
       "     smart_197_raw  smart_198_normalized  smart_198_raw  smart_199_normalized  \\\n",
       "680            0.0                 100.0            0.0                 200.0   \n",
       "200            0.0                 100.0            0.0                 200.0   \n",
       "56             0.0                 100.0            0.0                 200.0   \n",
       "208            0.0                 100.0            0.0                 200.0   \n",
       "963            0.0                 100.0            0.0                 200.0   \n",
       "\n",
       "     smart_199_raw  \n",
       "680            0.0  \n",
       "200            0.0  \n",
       "56             0.0  \n",
       "208           19.0  \n",
       "963            0.0  \n",
       "\n",
       "[5 rows x 29 columns]"
      ]
     },
     "execution_count": 4,
     "metadata": {},
     "output_type": "execute_result"
    }
   ],
   "source": [
    "x_train.head()"
   ]
  },
  {
   "cell_type": "code",
   "execution_count": 5,
   "metadata": {},
   "outputs": [
    {
     "name": "stderr",
     "output_type": "stream",
     "text": [
      "C:\\Anaconda3\\lib\\site-packages\\ipykernel\\__main__.py:15: SettingWithCopyWarning: \n",
      "A value is trying to be set on a copy of a slice from a DataFrame.\n",
      "Try using .loc[row_indexer,col_indexer] = value instead\n",
      "\n",
      "See the caveats in the documentation: http://pandas.pydata.org/pandas-docs/stable/indexing.html#indexing-view-versus-copy\n",
      "C:\\Anaconda3\\lib\\site-packages\\ipykernel\\__main__.py:16: SettingWithCopyWarning: \n",
      "A value is trying to be set on a copy of a slice from a DataFrame.\n",
      "Try using .loc[row_indexer,col_indexer] = value instead\n",
      "\n",
      "See the caveats in the documentation: http://pandas.pydata.org/pandas-docs/stable/indexing.html#indexing-view-versus-copy\n"
     ]
    }
   ],
   "source": [
    "train_norm = pd.DataFrame()\n",
    "test_norm = pd.DataFrame()\n",
    "manufacturers = ['ST','Hi','WD','To','HG']\n",
    "for man in manufacturers:\n",
    "    data_sub = x_train[[i[:2].lower()==man.lower() for i in x_train.model]]\n",
    "    test_sub = x_val[[i[:2].lower()==man.lower() for i in x_val.model]]\n",
    "    max_ = data_sub.max()\n",
    "    del max_['date']\n",
    "    min_ = data_sub.min()\n",
    "    del min_['date']\n",
    "    for col in feature_columns:\n",
    "        range_ = max_[col] - min_[col]\n",
    "        if range_==0:\n",
    "            range_ = 1\n",
    "        data_sub[col] = (data_sub[col] - min_[col])/range_\n",
    "        test_sub[col] = (test_sub[col] - min_[col])/range_\n",
    "    train_norm = pd.concat([train_norm,data_sub])\n",
    "    test_norm = pd.concat([test_norm,test_sub])"
   ]
  },
  {
   "cell_type": "code",
   "execution_count": 6,
   "metadata": {},
   "outputs": [],
   "source": [
    "\n",
    "#data_future = pd.concat([future_nominal, future_failure])\n",
    "#y_future = data_future['failure']\n",
    "#x_future = data_future[feature_columns]\n",
    "\n",
    "x_train = train_norm.sample(frac=1)[feature_columns]\n",
    "x_val = test_norm.sample(frac=1)[feature_columns]\n",
    "\n",
    "x_train = x_train.values\n",
    "x_val = x_val.values\n",
    "y_train = y_train.values\n",
    "y_val = y_val.values\n",
    "#x_future = x_future.values\n",
    "#y_future = y_future.values\n",
    "\n",
    "# *** LOAD DATA ***"
   ]
  },
  {
   "cell_type": "code",
   "execution_count": 7,
   "metadata": {},
   "outputs": [],
   "source": [
    "# *** MODELS ***\n",
    "from sklearn.linear_model import LogisticRegression\n",
    "from sklearn import svm\n",
    "from sklearn.ensemble import RandomForestClassifier\n",
    "from sklearn.ensemble import GradientBoostingClassifier\n",
    "from sklearn.naive_bayes import GaussianNB\n",
    "from sklearn.ensemble import AdaBoostClassifier\n",
    "\n",
    "lr1 = LogisticRegression(solver='newton-cg')\n",
    "lr2 = LogisticRegression(solver='lbfgs')\n",
    "lr3 = LogisticRegression(solver='saga')\n",
    "lr4 = LogisticRegression(solver='sag')\n",
    "lr5 = LogisticRegression(solver='liblinear')\n",
    "\n",
    "svm_linear = svm.SVC(kernel='linear', gamma='scale', probability=True)\n",
    "svm_rbf = svm.SVC(kernel='rbf', gamma='scale', probability=True)\n",
    "svm_poly = svm.SVC(kernel='poly', gamma='scale', probability=True)\n",
    "svm_sig = svm.SVC(kernel='sigmoid', gamma='scale', probability=True)\n",
    "\n",
    "rfc = RandomForestClassifier()\n",
    "rfc100 = RandomForestClassifier(n_estimators=100)\n",
    "\n",
    "boost1 = GradientBoostingClassifier(loss='deviance')\n",
    "boost2 = GradientBoostingClassifier(loss='exponential')\n",
    "\n",
    "gnb = GaussianNB()\n",
    "ada = AdaBoostClassifier(gnb, algorithm=\"SAMME\", n_estimators=200,learning_rate=.1)\n",
    "\n",
    "\n",
    "\n",
    "models = [lr1, lr2, lr3, lr4, lr5, svm_linear, svm_rbf, svm_poly, svm_sig, rfc, rfc100, boost1, boost2, gnb, ada]\n",
    "# *** MODELS ***"
   ]
  },
  {
   "cell_type": "code",
   "execution_count": 8,
   "metadata": {},
   "outputs": [],
   "source": [
    "model_results = {}\n",
    "#models = [lr1, lr2, lr3, lr4, lr5, svm_linear, svm_poly, rfc, rfc100, boost1, boost2, gnb, ada]\n",
    "models = [lr1, svm_linear, rfc, rfc100, boost1, boost2, gnb, ada]"
   ]
  },
  {
   "cell_type": "code",
   "execution_count": 17,
   "metadata": {},
   "outputs": [],
   "source": [
    "models = [svm_poly]"
   ]
  },
  {
   "cell_type": "code",
   "execution_count": 18,
   "metadata": {},
   "outputs": [],
   "source": [
    "# *** RUN MODELS ***\n",
    "\n",
    "for model in models:\n",
    "\n",
    "    model.fit(x_train, y_train)\n",
    "\n",
    "    pred_train = model.predict_proba(x_train)[:,1]\n",
    "    pred_val = model.predict_proba(x_val)[:,1]\n",
    "    \n",
    "    eval_v = evaluation_metrics(pred_val, y_val)\n",
    "    eval_t = evaluation_metrics(pred_train, y_train)\n",
    "    model_results[model] = {}\n",
    "    model_results[model]['train'] = eval_t\n",
    "    model_results[model]['val'] = eval_v\n",
    "    \n",
    "# *** RUN MODELS ***"
   ]
  },
  {
   "cell_type": "code",
   "execution_count": 19,
   "metadata": {},
   "outputs": [],
   "source": [
    "import winsound"
   ]
  },
  {
   "cell_type": "code",
   "execution_count": 20,
   "metadata": {},
   "outputs": [],
   "source": [
    "winsound.MessageBeep()"
   ]
  },
  {
   "cell_type": "code",
   "execution_count": 21,
   "metadata": {},
   "outputs": [],
   "source": [
    "models_plot = [lr1, rfc, svm_poly, boost2, gnb, ada]"
   ]
  },
  {
   "cell_type": "code",
   "execution_count": 22,
   "metadata": {},
   "outputs": [
    {
     "data": {
      "image/png": "[encoded data removed]",
      "text/plain": [
       "<Figure size 432x288 with 1 Axes>"
      ]
     },
     "metadata": {},
     "output_type": "display_data"
    }
   ],
   "source": [
    "leg = []\n",
    "data = []\n",
    "for (i,model) in enumerate(models_plot):\n",
    "    leg.append(str(model).split('(')[0])\n",
    "    data.append(model_results[model]['val']['roc_auc'])\n",
    "    plt.bar(i, model_results[model]['val']['roc_auc'])\n",
    "plt.legend(leg,bbox_to_anchor=(0., 1.2, 1., .102), loc=3,\n",
    "           ncol=2, mode=\"expand\", borderaxespad=0.)\n",
    "plt.title(\"AUC for Different Models\")\n",
    "plt.ylim([0,1])\n",
    "plt.show()"
   ]
  },
  {
   "cell_type": "code",
   "execution_count": 23,
   "metadata": {},
   "outputs": [
    {
     "data": {
      "image/png": "[encoded data removed]",
      "text/plain": [
       "<Figure size 432x288 with 1 Axes>"
      ]
     },
     "metadata": {},
     "output_type": "display_data"
    }
   ],
   "source": [
    "leg = []\n",
    "data = []\n",
    "for (i,model) in enumerate(models_plot):\n",
    "    leg.append(str(model).split('(')[0])\n",
    "    data.append(model_results[model]['val']['f1'])\n",
    "    plt.bar(i, model_results[model]['val']['f1'])\n",
    "plt.legend(leg,bbox_to_anchor=(0., 1.2, 1., .102), loc=3,\n",
    "           ncol=2, mode=\"expand\", borderaxespad=0.)\n",
    "plt.ylim([0,1])\n",
    "plt.title(\"F1 for Different Models\")\n",
    "plt.show()"
   ]
  },
  {
   "cell_type": "code",
   "execution_count": 24,
   "metadata": {},
   "outputs": [
    {
     "data": {
      "text/plain": [
       "{'train': {'accuracy': 0.6122661122661123,\n",
       "  'f1': 0.5879284649776453,\n",
       "  'fpr': array([0.00000000e+00, 0.00000000e+00, 8.78734622e-04, ...,\n",
       "         9.97363796e-01, 9.97363796e-01, 1.00000000e+00]),\n",
       "  'precision': 0.5130039011703511,\n",
       "  'recall': 0.6884816753926701,\n",
       "  'roc_auc': 0.5209243889497205,\n",
       "  'tpr': array([0.00000000e+00, 8.72600349e-04, 8.72600349e-04, ...,\n",
       "         9.99127400e-01, 1.00000000e+00, 1.00000000e+00])},\n",
       " 'val': {'accuracy': 0.6022988505747127,\n",
       "  'f1': 0.5441176470588235,\n",
       "  'fpr': array([0.        , 0.00343643, 0.00343643, 0.0137457 , 0.01718213,\n",
       "         0.01718213, 0.02061856, 0.02749141, 0.04467354, 0.04467354,\n",
       "         0.05154639, 0.06185567, 0.06185567, 0.0652921 , 0.0790378 ,\n",
       "         0.08247423, 0.08247423, 0.08934708, 0.09621993, 0.11340206,\n",
       "         0.11340206, 0.11683849, 0.11683849, 0.12371134, 0.12371134,\n",
       "         0.12714777, 0.12714777, 0.1443299 , 0.1443299 , 0.14776632,\n",
       "         0.15463918, 0.1580756 , 0.16151203, 0.16151203, 0.17182131,\n",
       "         0.17182131, 0.18213058, 0.18213058, 0.18556701, 0.18556701,\n",
       "         0.19243986, 0.19243986, 0.19587629, 0.19587629, 0.20618557,\n",
       "         0.20618557, 0.21993127, 0.21993127, 0.2233677 , 0.2233677 ,\n",
       "         0.22680412, 0.22680412, 0.23367698, 0.23367698, 0.24398625,\n",
       "         0.24398625, 0.24742268, 0.24742268, 0.26460481, 0.26460481,\n",
       "         0.26460481, 0.27147766, 0.27147766, 0.27491409, 0.27491409,\n",
       "         0.27835052, 0.28178694, 0.28178694, 0.28865979, 0.28865979,\n",
       "         0.29209622, 0.29896907, 0.29896907, 0.30584192, 0.30584192,\n",
       "         0.30927835, 0.30927835, 0.31271478, 0.31271478, 0.3161512 ,\n",
       "         0.3161512 , 0.31958763, 0.31958763, 0.32302405, 0.32302405,\n",
       "         0.32646048, 0.32646048, 0.32989691, 0.32989691, 0.34364261,\n",
       "         0.34364261, 0.34707904, 0.34707904, 0.35051546, 0.35051546,\n",
       "         0.36426117, 0.36426117, 0.37113402, 0.37113402, 0.37800687,\n",
       "         0.37800687, 0.38831615, 0.38831615, 0.39862543, 0.39862543,\n",
       "         0.40549828, 0.40549828, 0.40893471, 0.40893471, 0.41237113,\n",
       "         0.41237113, 0.41924399, 0.41924399, 0.42268041, 0.42268041,\n",
       "         0.42611684, 0.42611684, 0.42955326, 0.42955326, 0.43986254,\n",
       "         0.43986254, 0.45704467, 0.45704467, 0.47079038, 0.47079038,\n",
       "         0.4742268 , 0.4742268 , 0.47766323, 0.47766323, 0.48109966,\n",
       "         0.48109966, 0.48797251, 0.48797251, 0.49484536, 0.49484536,\n",
       "         0.50171821, 0.50171821, 0.50859107, 0.50859107, 0.51546392,\n",
       "         0.51546392, 0.52233677, 0.52233677, 0.5257732 , 0.5257732 ,\n",
       "         0.53608247, 0.53608247, 0.54295533, 0.54295533, 0.5532646 ,\n",
       "         0.5532646 , 0.56013746, 0.56013746, 0.57044674, 0.57044674,\n",
       "         0.59106529, 0.59106529, 0.61512027, 0.61512027, 0.62542955,\n",
       "         0.62542955, 0.62886598, 0.62886598, 0.63573883, 0.63573883,\n",
       "         0.64261168, 0.64261168, 0.64604811, 0.64604811, 0.65292096,\n",
       "         0.65292096, 0.65979381, 0.66323024, 0.67010309, 0.67010309,\n",
       "         0.67353952, 0.67353952, 0.67697595, 0.67697595, 0.69415808,\n",
       "         0.69415808, 0.70103093, 0.70103093, 0.70790378, 0.70790378,\n",
       "         0.71134021, 0.71134021, 0.72164948, 0.72164948, 0.72852234,\n",
       "         0.72852234, 0.73195876, 0.73195876, 0.73539519, 0.73539519,\n",
       "         0.73883162, 0.73883162, 0.74570447, 0.74570447, 0.75257732,\n",
       "         0.75257732, 0.75601375, 0.75601375, 0.75945017, 0.75945017,\n",
       "         0.7628866 , 0.7628866 , 0.76632302, 0.76975945, 0.77319588,\n",
       "         0.77319588, 0.7766323 , 0.7766323 , 0.78006873, 0.78006873,\n",
       "         0.79037801, 0.79037801, 0.80068729, 0.80068729, 0.80412371,\n",
       "         0.80412371, 0.80756014, 0.80756014, 0.81099656, 0.81099656,\n",
       "         0.81786942, 0.81786942, 0.83848797, 0.83848797, 0.84879725,\n",
       "         0.84879725, 0.85223368, 0.85223368, 0.86597938, 0.86597938,\n",
       "         0.87972509, 0.87972509, 0.89003436, 0.89003436, 0.89690722,\n",
       "         0.89690722, 0.90034364, 0.90034364, 0.90721649, 0.90721649,\n",
       "         0.91065292, 0.91065292, 0.91408935, 0.91408935, 0.91752577,\n",
       "         0.91752577, 0.92439863, 0.92439863, 0.92783505, 0.92783505,\n",
       "         0.93127148, 0.93127148, 0.9347079 , 0.9347079 , 0.94501718,\n",
       "         0.94501718, 0.94845361, 0.94845361, 0.95189003, 0.95189003,\n",
       "         0.95532646, 0.95532646, 0.96907216, 0.96907216, 0.97250859,\n",
       "         0.97250859, 0.97594502, 0.97594502, 0.98281787, 0.98281787,\n",
       "         0.9862543 , 0.99312715, 0.99312715, 0.99656357, 0.99656357,\n",
       "         0.99656357, 1.        , 1.        ]),\n",
       "  'precision': 0.46365914786967416,\n",
       "  'recall': 0.6583629893238434,\n",
       "  'roc_auc': 0.4735480793924497,\n",
       "  'tpr': array([0.        , 0.        , 0.00711744, 0.02491103, 0.02491103,\n",
       "         0.02846975, 0.03202847, 0.03558719, 0.04626335, 0.04982206,\n",
       "         0.06049822, 0.06761566, 0.07117438, 0.07829181, 0.08540925,\n",
       "         0.09252669, 0.09608541, 0.11032028, 0.11743772, 0.12811388,\n",
       "         0.13523132, 0.13523132, 0.13879004, 0.13879004, 0.14946619,\n",
       "         0.14946619, 0.15658363, 0.15658363, 0.16370107, 0.16370107,\n",
       "         0.16370107, 0.17081851, 0.17081851, 0.17793594, 0.17793594,\n",
       "         0.18149466, 0.18149466, 0.19217082, 0.19217082, 0.19572954,\n",
       "         0.19572954, 0.20640569, 0.20640569, 0.20996441, 0.20996441,\n",
       "         0.21708185, 0.21708185, 0.22064057, 0.22064057, 0.22419929,\n",
       "         0.22419929, 0.22775801, 0.22775801, 0.23487544, 0.23487544,\n",
       "         0.23843416, 0.23843416, 0.2455516 , 0.2455516 , 0.25266904,\n",
       "         0.25622776, 0.25622776, 0.25978648, 0.25978648, 0.28113879,\n",
       "         0.28469751, 0.28469751, 0.29181495, 0.29181495, 0.29537367,\n",
       "         0.29537367, 0.29893238, 0.3024911 , 0.3024911 , 0.30604982,\n",
       "         0.30604982, 0.30960854, 0.30960854, 0.31316726, 0.31316726,\n",
       "         0.3202847 , 0.3202847 , 0.32384342, 0.32384342, 0.32740214,\n",
       "         0.32740214, 0.33096085, 0.33096085, 0.33807829, 0.33807829,\n",
       "         0.34875445, 0.34875445, 0.35231317, 0.35231317, 0.35587189,\n",
       "         0.35587189, 0.3594306 , 0.3594306 , 0.36298932, 0.36298932,\n",
       "         0.36654804, 0.36654804, 0.37366548, 0.37366548, 0.3772242 ,\n",
       "         0.3772242 , 0.38078292, 0.38078292, 0.38434164, 0.38434164,\n",
       "         0.39145907, 0.39145907, 0.39501779, 0.39501779, 0.39857651,\n",
       "         0.40213523, 0.40569395, 0.40569395, 0.40925267, 0.40925267,\n",
       "         0.41281139, 0.41281139, 0.41992883, 0.41992883, 0.42704626,\n",
       "         0.42704626, 0.43772242, 0.43772242, 0.44128114, 0.44128114,\n",
       "         0.44483986, 0.44483986, 0.44839858, 0.44839858, 0.45551601,\n",
       "         0.45551601, 0.46263345, 0.46263345, 0.47686833, 0.47686833,\n",
       "         0.48398577, 0.48398577, 0.48754448, 0.4911032 , 0.49466192,\n",
       "         0.49466192, 0.49822064, 0.49822064, 0.50177936, 0.50177936,\n",
       "         0.50533808, 0.50533808, 0.5088968 , 0.5088968 , 0.52313167,\n",
       "         0.52313167, 0.52669039, 0.52669039, 0.53736655, 0.53736655,\n",
       "         0.54092527, 0.54092527, 0.55160142, 0.55160142, 0.55516014,\n",
       "         0.55516014, 0.55871886, 0.55871886, 0.56227758, 0.56227758,\n",
       "         0.5658363 , 0.5658363 , 0.56939502, 0.56939502, 0.59786477,\n",
       "         0.59786477, 0.60142349, 0.60142349, 0.61565836, 0.61565836,\n",
       "         0.62633452, 0.62633452, 0.62989324, 0.62989324, 0.63345196,\n",
       "         0.63345196, 0.63701068, 0.63701068, 0.6405694 , 0.6405694 ,\n",
       "         0.64412811, 0.64412811, 0.65480427, 0.65480427, 0.66903915,\n",
       "         0.66903915, 0.67259786, 0.67259786, 0.67615658, 0.67615658,\n",
       "         0.6797153 , 0.6797153 , 0.68683274, 0.68683274, 0.69395018,\n",
       "         0.69395018, 0.70106762, 0.70106762, 0.70462633, 0.70462633,\n",
       "         0.70818505, 0.70818505, 0.71886121, 0.71886121, 0.74733096,\n",
       "         0.74733096, 0.76868327, 0.76868327, 0.77224199, 0.77224199,\n",
       "         0.77935943, 0.77935943, 0.78291815, 0.78291815, 0.78647687,\n",
       "         0.78647687, 0.80427046, 0.80427046, 0.80782918, 0.80782918,\n",
       "         0.82206406, 0.82206406, 0.83985765, 0.83985765, 0.84341637,\n",
       "         0.84341637, 0.84697509, 0.84697509, 0.85053381, 0.85053381,\n",
       "         0.85409253, 0.85409253, 0.86120996, 0.86120996, 0.8683274 ,\n",
       "         0.8683274 , 0.87188612, 0.87188612, 0.87900356, 0.87900356,\n",
       "         0.886121  , 0.886121  , 0.89323843, 0.89323843, 0.89679715,\n",
       "         0.89679715, 0.90747331, 0.90747331, 0.9252669 , 0.9252669 ,\n",
       "         0.92882562, 0.92882562, 0.93238434, 0.93238434, 0.93594306,\n",
       "         0.93594306, 0.9430605 , 0.9430605 , 0.94661922, 0.94661922,\n",
       "         0.96085409, 0.96085409, 0.96441281, 0.96441281, 0.97508897,\n",
       "         0.97508897, 0.97864769, 0.98220641, 0.98220641, 0.98576512,\n",
       "         0.99288256, 0.99288256, 1.        ])}}"
      ]
     },
     "execution_count": 24,
     "metadata": {},
     "output_type": "execute_result"
    }
   ],
   "source": [
    "model_results[gnb]"
   ]
  },
  {
   "cell_type": "code",
   "execution_count": 25,
   "metadata": {},
   "outputs": [
    {
     "data": {
      "image/png": "[encoded data removed]",
      "text/plain": [
       "<Figure size 432x288 with 1 Axes>"
      ]
     },
     "metadata": {},
     "output_type": "display_data"
    }
   ],
   "source": [
    "leg = []\n",
    "data = []\n",
    "for (i,model) in enumerate(models_plot):\n",
    "    leg.append(str(model).split('(')[0])\n",
    "    data.append(model_results[model]['val']['precision'])\n",
    "    plt.bar(i, model_results[model]['val']['precision'])\n",
    "plt.legend(leg,bbox_to_anchor=(0., 1.2, 1., .102), loc=3,\n",
    "           ncol=2, mode=\"expand\", borderaxespad=0.)\n",
    "plt.title(\"Precision for Different Models\")\n",
    "plt.ylim([0,1])\n",
    "plt.show()"
   ]
  },
  {
   "cell_type": "code",
   "execution_count": 28,
   "metadata": {},
   "outputs": [
    {
     "data": {
      "text/plain": [
       "0.5017513134851138"
      ]
     },
     "execution_count": 28,
     "metadata": {},
     "output_type": "execute_result"
    }
   ],
   "source": [
    "y_train.mean()"
   ]
  },
  {
   "cell_type": "code",
   "execution_count": 26,
   "metadata": {},
   "outputs": [
    {
     "data": {
      "image/png": "[encoded data removed]",
      "text/plain": [
       "<Figure size 432x288 with 1 Axes>"
      ]
     },
     "metadata": {},
     "output_type": "display_data"
    }
   ],
   "source": [
    "leg = []\n",
    "data = []\n",
    "for (i,model) in enumerate(models_plot):\n",
    "    leg.append(str(model).split('(')[0])\n",
    "    data.append(model_results[model]['val']['recall'])\n",
    "    plt.bar(i, model_results[model]['val']['recall'])\n",
    "plt.legend(leg,bbox_to_anchor=(0., 1.2, 1., .102), loc=3,\n",
    "           ncol=2, mode=\"expand\", borderaxespad=0.)\n",
    "plt.title(\"Recall for Different Models\")\n",
    "plt.ylim([0,1])\n",
    "plt.show()"
   ]
  },
  {
   "cell_type": "code",
   "execution_count": null,
   "metadata": {},
   "outputs": [],
   "source": []
  },
  {
   "cell_type": "code",
   "execution_count": 55,
   "metadata": {},
   "outputs": [
    {
     "data": {
      "image/png": "[encoded data removed]",
      "text/plain": [
       "<Figure size 432x288 with 1 Axes>"
      ]
     },
     "metadata": {},
     "output_type": "display_data"
    }
   ],
   "source": [
    "leg = []\n",
    "data = []\n",
    "for (i,model) in enumerate(models_plot):\n",
    "    leg.append(str(model).split('(')[0])\n",
    "    data.append(model_results[model]['val']['accuracy'])\n",
    "    plt.bar(i, model_results[model]['val']['accuracy'])\n",
    "plt.legend(leg,bbox_to_anchor=(0., 1.2, 1., .102), loc=3,\n",
    "           ncol=2, mode=\"expand\", borderaxespad=0.)\n",
    "plt.title(\"Accuracy for Different Models\")\n",
    "plt.ylim([0,1])\n",
    "plt.show()"
   ]
  },
  {
   "cell_type": "code",
   "execution_count": 56,
   "metadata": {},
   "outputs": [
    {
     "data": {
      "image/png": "[encoded data removed]",
      "text/plain": [
       "<Figure size 432x288 with 1 Axes>"
      ]
     },
     "metadata": {},
     "output_type": "display_data"
    }
   ],
   "source": [
    "data_t = []\n",
    "data_v = []\n",
    "for (i,model) in enumerate(models_plot):\n",
    "    data_t.append(model_results[model]['train']['roc_auc'])\n",
    "    data_v.append(model_results[model]['val']['roc_auc'])\n",
    "plt.bar([3*i for i in range(len(models_plot))], data_t)\n",
    "plt.bar([3*i+1 for i in range(len(models_plot))], data_v)\n",
    "plt.xticks(np.arange(0,3*len(models_plot),3), [str(m).split('(')[0] for m in models_plot],\n",
    "          rotation='vertical')\n",
    "plt.legend([\"Training\",\"Testing\"],bbox_to_anchor=(0., 1.2, 1., .102), loc=3,\n",
    "           ncol=2, mode=\"expand\", borderaxespad=0.)\n",
    "plt.title(\"AUC for Different Models at Train and Test Time\")\n",
    "plt.show()"
   ]
  },
  {
   "cell_type": "code",
   "execution_count": 58,
   "metadata": {},
   "outputs": [
    {
     "data": {
      "image/png": "[encoded data removed]",
      "text/plain": [
       "<Figure size 432x288 with 1 Axes>"
      ]
     },
     "metadata": {},
     "output_type": "display_data"
    }
   ],
   "source": [
    "data_t = []\n",
    "data_v = []\n",
    "for (i,model) in enumerate(models_plot):\n",
    "    data_t.append(model_results[model]['train']['accuracy'])\n",
    "    data_v.append(model_results[model]['val']['accuracy'])\n",
    "plt.bar([3*i for i in range(len(models_plot))], data_t)\n",
    "plt.bar([3*i+1 for i in range(len(models_plot))], data_v)\n",
    "plt.xticks(np.arange(0,3*len(models_plot),3), [str(m).split('(')[0] for m in models_plot],\n",
    "          rotation='vertical')\n",
    "plt.legend([\"Training\",\"Testing\"],bbox_to_anchor=(0., 1.2, 1., .102), loc=3,\n",
    "           ncol=2, mode=\"expand\", borderaxespad=0.)\n",
    "plt.title(\"Accuracy for Different Models at Train and Test Time\")\n",
    "plt.show()"
   ]
  },
  {
   "cell_type": "code",
   "execution_count": 115,
   "metadata": {},
   "outputs": [
    {
     "data": {
      "text/plain": [
       "array(['HGST HUH728080ALE600', 'Hitachi HDS5C3030ALA630',\n",
       "       'Hitachi HDS722020ALA330', 'ST4000DM000', 'TOSHIBA DT01ACA300',\n",
       "       'ST31500541AS', 'ST6000DX000', 'Hitachi HDS5C4040ALE630',\n",
       "       'HGST HMS5C4040ALE640', 'ST500LM012 HN', 'ST3000DM001',\n",
       "       'Hitachi HDS723030ALA640', 'HGST HMS5C4040BLE640', 'WDC WD30EFRX',\n",
       "       'HGST HDS5C4040ALE630', 'ST31500341AS', 'ST9250315AS',\n",
       "       'WDC WD800AAJB', 'WDC WD10EACS', 'TOSHIBA MD04ABA400V',\n",
       "       'ST4000DX000', 'ST250LM004 HN', 'WDC WD10EADS', 'WDC WD1600AAJS',\n",
       "       'ST9320325AS', 'WDC WD60EFRX', 'WDC WD5000LPVX', 'ST3160316AS',\n",
       "       'WDC WD40EFRX', 'ST33000651AS', 'HGST HDS724040ALE640',\n",
       "       'WDC WD20EFRX', 'ST32000542AS', 'WDC WD5000BPKT', 'WDC WD800JB',\n",
       "       'WDC WD800LB', 'ST3500320AS', 'WDC WD10EADX', 'WDC WD2500BPVT',\n",
       "       'WDC WD800BB', 'ST320LT007', 'Hitachi HDS723030BLE640',\n",
       "       'ST2000VN000', 'WDC WD3200BEKT', 'WDC WD10EARS', 'ST1500DL003',\n",
       "       'WDC WD3200BEKX', 'ST3160318AS', 'WDC WD3200AAJS', 'ST250LT007',\n",
       "       'WDC WD2500AAJS', 'ST320005XXXX', 'TOSHIBA MD04ABA500V',\n",
       "       'WDC WD1600AAJB', 'Hitachi HDS723020BLA642', 'WDC WD1600BPVT'],\n",
       "      dtype=object)"
      ]
     },
     "execution_count": 115,
     "metadata": {},
     "output_type": "execute_result"
    }
   ],
   "source": [
    "data_curr.model.unique()"
   ]
  },
  {
   "cell_type": "code",
   "execution_count": 59,
   "metadata": {},
   "outputs": [
    {
     "name": "stdout",
     "output_type": "stream",
     "text": [
      "LogisticRegression(C=1.0, class_weight=None, dual=False, fit_intercept=True,\n",
      "          intercept_scaling=1, max_iter=100, multi_class='warn',\n",
      "          n_jobs=None, penalty='l2', random_state=None, solver='newton-cg',\n",
      "          tol=0.0001, verbose=0, warm_start=False)\n",
      "0.2491911779145174\n",
      "0.251929783190115\n",
      "RandomForestClassifier(bootstrap=True, class_weight=None, criterion='gini',\n",
      "            max_depth=None, max_features='auto', max_leaf_nodes=None,\n",
      "            min_impurity_decrease=0.0, min_impurity_split=None,\n",
      "            min_samples_leaf=1, min_samples_split=2,\n",
      "            min_weight_fraction_leaf=0.0, n_estimators=10, n_jobs=None,\n",
      "            oob_score=False, random_state=None, verbose=0,\n",
      "            warm_start=False)\n",
      "0.059953009535016234\n",
      "0.31116265817793465\n",
      "SVC(C=1.0, cache_size=200, class_weight=None, coef0=0.0,\n",
      "  decision_function_shape='ovr', degree=3, gamma='scale', kernel='linear',\n",
      "  max_iter=-1, probability=True, random_state=None, shrinking=True,\n",
      "  tol=0.001, verbose=False)\n",
      "0.25046170871593176\n",
      "0.2491682949546123\n",
      "GradientBoostingClassifier(criterion='friedman_mse', init=None,\n",
      "              learning_rate=0.1, loss='exponential', max_depth=3,\n",
      "              max_features=None, max_leaf_nodes=None,\n",
      "              min_impurity_decrease=0.0, min_impurity_split=None,\n",
      "              min_samples_leaf=1, min_samples_split=2,\n",
      "              min_weight_fraction_leaf=0.0, n_estimators=100,\n",
      "              n_iter_no_change=None, presort='auto', random_state=None,\n",
      "              subsample=1.0, tol=0.0001, validation_fraction=0.1,\n",
      "              verbose=0, warm_start=False)\n",
      "0.20937760265464075\n",
      "0.2597973308154487\n",
      "GaussianNB(priors=None, var_smoothing=1e-09)\n",
      "0.36839877408672683\n",
      "0.37522025322114866\n",
      "AdaBoostClassifier(algorithm='SAMME',\n",
      "          base_estimator=GaussianNB(priors=None, var_smoothing=1e-09),\n",
      "          learning_rate=0.1, n_estimators=200, random_state=None)\n",
      "0.27460494018397846\n",
      "0.2776266216680805\n"
     ]
    }
   ],
   "source": [
    "# *** RUN MODELS ***\n",
    "\n",
    "for model in models_plot:\n",
    "    pred_train = model.predict_proba(x_train)[:,1]\n",
    "    pred_val = model.predict_proba(x_val)[:,1]\n",
    "    \n",
    "    print(model)\n",
    "    print(mean_squared_error(y_train,pred_train))\n",
    "    print(mean_squared_error(y_val,pred_val))\n",
    "    \n",
    "# *** RUN MODELS ***"
   ]
  },
  {
   "cell_type": "code",
   "execution_count": 8,
   "metadata": {},
   "outputs": [
    {
     "ename": "OSError",
     "evalue": "[WinError 126] The specified module could not be found",
     "output_type": "error",
     "traceback": [
      "\u001b[1;31m---------------------------------------------------------------------------\u001b[0m",
      "\u001b[1;31mOSError\u001b[0m                                   Traceback (most recent call last)",
      "\u001b[1;32m<ipython-input-8-e0ef61bd9b59>\u001b[0m in \u001b[0;36m<module>\u001b[1;34m()\u001b[0m\n\u001b[0;32m      1\u001b[0m \u001b[1;31m# *** SPECIAL MODEL: xgboost ***\u001b[0m\u001b[1;33m\u001b[0m\u001b[1;33m\u001b[0m\u001b[0m\n\u001b[1;32m----> 2\u001b[1;33m \u001b[1;32mfrom\u001b[0m \u001b[0mxgboost\u001b[0m \u001b[1;32mimport\u001b[0m \u001b[0mXGBClassifier\u001b[0m\u001b[1;33m\u001b[0m\u001b[0m\n\u001b[0m\u001b[0;32m      3\u001b[0m \u001b[1;33m\u001b[0m\u001b[0m\n\u001b[0;32m      4\u001b[0m xgb = XGBClassifier(objective ='reg:linear', \n\u001b[0;32m      5\u001b[0m                              \u001b[0mmax_depth\u001b[0m \u001b[1;33m=\u001b[0m \u001b[1;36m10\u001b[0m\u001b[1;33m,\u001b[0m\u001b[1;33m\u001b[0m\u001b[0m\n",
      "\u001b[1;32mC:\\Anaconda3\\lib\\site-packages\\xgboost\\__init__.py\u001b[0m in \u001b[0;36m<module>\u001b[1;34m()\u001b[0m\n\u001b[0;32m      9\u001b[0m \u001b[1;32mimport\u001b[0m \u001b[0mos\u001b[0m\u001b[1;33m\u001b[0m\u001b[0m\n\u001b[0;32m     10\u001b[0m \u001b[1;33m\u001b[0m\u001b[0m\n\u001b[1;32m---> 11\u001b[1;33m \u001b[1;32mfrom\u001b[0m \u001b[1;33m.\u001b[0m\u001b[0mcore\u001b[0m \u001b[1;32mimport\u001b[0m \u001b[0mDMatrix\u001b[0m\u001b[1;33m,\u001b[0m \u001b[0mBooster\u001b[0m\u001b[1;33m\u001b[0m\u001b[0m\n\u001b[0m\u001b[0;32m     12\u001b[0m \u001b[1;32mfrom\u001b[0m \u001b[1;33m.\u001b[0m\u001b[0mtraining\u001b[0m \u001b[1;32mimport\u001b[0m \u001b[0mtrain\u001b[0m\u001b[1;33m,\u001b[0m \u001b[0mcv\u001b[0m\u001b[1;33m\u001b[0m\u001b[0m\n\u001b[0;32m     13\u001b[0m \u001b[1;32mfrom\u001b[0m \u001b[1;33m.\u001b[0m \u001b[1;32mimport\u001b[0m \u001b[0mrabit\u001b[0m                   \u001b[1;31m# noqa\u001b[0m\u001b[1;33m\u001b[0m\u001b[0m\n",
      "\u001b[1;32mC:\\Anaconda3\\lib\\site-packages\\xgboost\\core.py\u001b[0m in \u001b[0;36m<module>\u001b[1;34m()\u001b[0m\n\u001b[0;32m    113\u001b[0m \u001b[1;33m\u001b[0m\u001b[0m\n\u001b[0;32m    114\u001b[0m \u001b[1;31m# load the XGBoost library globally\u001b[0m\u001b[1;33m\u001b[0m\u001b[1;33m\u001b[0m\u001b[0m\n\u001b[1;32m--> 115\u001b[1;33m \u001b[0m_LIB\u001b[0m \u001b[1;33m=\u001b[0m \u001b[0m_load_lib\u001b[0m\u001b[1;33m(\u001b[0m\u001b[1;33m)\u001b[0m\u001b[1;33m\u001b[0m\u001b[0m\n\u001b[0m\u001b[0;32m    116\u001b[0m \u001b[1;33m\u001b[0m\u001b[0m\n\u001b[0;32m    117\u001b[0m \u001b[1;33m\u001b[0m\u001b[0m\n",
      "\u001b[1;32mC:\\Anaconda3\\lib\\site-packages\\xgboost\\core.py\u001b[0m in \u001b[0;36m_load_lib\u001b[1;34m()\u001b[0m\n\u001b[0;32m    107\u001b[0m     \u001b[1;32mif\u001b[0m \u001b[0mlen\u001b[0m\u001b[1;33m(\u001b[0m\u001b[0mlib_path\u001b[0m\u001b[1;33m)\u001b[0m \u001b[1;33m==\u001b[0m \u001b[1;36m0\u001b[0m\u001b[1;33m:\u001b[0m\u001b[1;33m\u001b[0m\u001b[0m\n\u001b[0;32m    108\u001b[0m         \u001b[1;32mreturn\u001b[0m \u001b[1;32mNone\u001b[0m\u001b[1;33m\u001b[0m\u001b[0m\n\u001b[1;32m--> 109\u001b[1;33m     \u001b[0mlib\u001b[0m \u001b[1;33m=\u001b[0m \u001b[0mctypes\u001b[0m\u001b[1;33m.\u001b[0m\u001b[0mcdll\u001b[0m\u001b[1;33m.\u001b[0m\u001b[0mLoadLibrary\u001b[0m\u001b[1;33m(\u001b[0m\u001b[0mlib_path\u001b[0m\u001b[1;33m[\u001b[0m\u001b[1;36m0\u001b[0m\u001b[1;33m]\u001b[0m\u001b[1;33m)\u001b[0m\u001b[1;33m\u001b[0m\u001b[0m\n\u001b[0m\u001b[0;32m    110\u001b[0m     \u001b[0mlib\u001b[0m\u001b[1;33m.\u001b[0m\u001b[0mXGBGetLastError\u001b[0m\u001b[1;33m.\u001b[0m\u001b[0mrestype\u001b[0m \u001b[1;33m=\u001b[0m \u001b[0mctypes\u001b[0m\u001b[1;33m.\u001b[0m\u001b[0mc_char_p\u001b[0m\u001b[1;33m\u001b[0m\u001b[0m\n\u001b[0;32m    111\u001b[0m     \u001b[1;32mreturn\u001b[0m \u001b[0mlib\u001b[0m\u001b[1;33m\u001b[0m\u001b[0m\n",
      "\u001b[1;32mC:\\Anaconda3\\lib\\ctypes\\__init__.py\u001b[0m in \u001b[0;36mLoadLibrary\u001b[1;34m(self, name)\u001b[0m\n\u001b[0;32m    427\u001b[0m \u001b[1;33m\u001b[0m\u001b[0m\n\u001b[0;32m    428\u001b[0m     \u001b[1;32mdef\u001b[0m \u001b[0mLoadLibrary\u001b[0m\u001b[1;33m(\u001b[0m\u001b[0mself\u001b[0m\u001b[1;33m,\u001b[0m \u001b[0mname\u001b[0m\u001b[1;33m)\u001b[0m\u001b[1;33m:\u001b[0m\u001b[1;33m\u001b[0m\u001b[0m\n\u001b[1;32m--> 429\u001b[1;33m         \u001b[1;32mreturn\u001b[0m \u001b[0mself\u001b[0m\u001b[1;33m.\u001b[0m\u001b[0m_dlltype\u001b[0m\u001b[1;33m(\u001b[0m\u001b[0mname\u001b[0m\u001b[1;33m)\u001b[0m\u001b[1;33m\u001b[0m\u001b[0m\n\u001b[0m\u001b[0;32m    430\u001b[0m \u001b[1;33m\u001b[0m\u001b[0m\n\u001b[0;32m    431\u001b[0m \u001b[0mcdll\u001b[0m \u001b[1;33m=\u001b[0m \u001b[0mLibraryLoader\u001b[0m\u001b[1;33m(\u001b[0m\u001b[0mCDLL\u001b[0m\u001b[1;33m)\u001b[0m\u001b[1;33m\u001b[0m\u001b[0m\n",
      "\u001b[1;32mC:\\Anaconda3\\lib\\ctypes\\__init__.py\u001b[0m in \u001b[0;36m__init__\u001b[1;34m(self, name, mode, handle, use_errno, use_last_error)\u001b[0m\n\u001b[0;32m    349\u001b[0m \u001b[1;33m\u001b[0m\u001b[0m\n\u001b[0;32m    350\u001b[0m         \u001b[1;32mif\u001b[0m \u001b[0mhandle\u001b[0m \u001b[1;32mis\u001b[0m \u001b[1;32mNone\u001b[0m\u001b[1;33m:\u001b[0m\u001b[1;33m\u001b[0m\u001b[0m\n\u001b[1;32m--> 351\u001b[1;33m             \u001b[0mself\u001b[0m\u001b[1;33m.\u001b[0m\u001b[0m_handle\u001b[0m \u001b[1;33m=\u001b[0m \u001b[0m_dlopen\u001b[0m\u001b[1;33m(\u001b[0m\u001b[0mself\u001b[0m\u001b[1;33m.\u001b[0m\u001b[0m_name\u001b[0m\u001b[1;33m,\u001b[0m \u001b[0mmode\u001b[0m\u001b[1;33m)\u001b[0m\u001b[1;33m\u001b[0m\u001b[0m\n\u001b[0m\u001b[0;32m    352\u001b[0m         \u001b[1;32melse\u001b[0m\u001b[1;33m:\u001b[0m\u001b[1;33m\u001b[0m\u001b[0m\n\u001b[0;32m    353\u001b[0m             \u001b[0mself\u001b[0m\u001b[1;33m.\u001b[0m\u001b[0m_handle\u001b[0m \u001b[1;33m=\u001b[0m \u001b[0mhandle\u001b[0m\u001b[1;33m\u001b[0m\u001b[0m\n",
      "\u001b[1;31mOSError\u001b[0m: [WinError 126] The specified module could not be found"
     ]
    }
   ],
   "source": [
    "# *** SPECIAL MODEL: xgboost ***\n",
    "from xgboost import XGBClassifier\n",
    "\n",
    "xgb = XGBClassifier(objective ='reg:linear', \n",
    "                             max_depth = 10,\n",
    "                             silent = 1,\n",
    "                             learning_rate = 0.05,\n",
    "                             n_estimators = 1000)\n",
    "\n",
    "eval_set = [(x_val, y_val)]\n",
    "\n",
    "#TODO eval set should be sepearte from Test set!!!\n",
    "\n",
    "xgb.fit(x_train, y_train, early_stopping_rounds=100,eval_metric= 'logloss', eval_set=eval_set)\n",
    "\n",
    "pred_train = model.predict_proba(x_train)[:,1]\n",
    "pred_val = model.predict_proba(x_val)[:,1]\n",
    "\n",
    "# pred_future = svm_linear.predict_proba(x_future)[:,1]\n",
    "# pred_train\n",
    "\n",
    "eval = evaluation_metrics(pred_val, y_val)\n",
    "print(\"Trained:  \", model)\n",
    "print(\"Precision:\", eval['precision'])\n",
    "print(\"Recall:   \", eval['recall'])\n",
    "print(\"Accuracy: \", eval['accuracy'])\n",
    "print(\"F1-Score: \", eval['f1'])\n",
    "print(\"AuC:      \", eval['roc_auc'])\n",
    "print(\"\")\n",
    "\n",
    "# *** SPECIAL MODEL: xgboost ***"
   ]
  },
  {
   "cell_type": "code",
   "execution_count": 26,
   "metadata": {},
   "outputs": [
    {
     "name": "stdout",
     "output_type": "stream",
     "text": [
      "[1]\tvalid_0's binary_logloss: 0.671665\n",
      "[2]\tvalid_0's binary_logloss: 0.654115\n",
      "[3]\tvalid_0's binary_logloss: 0.639752\n",
      "[4]\tvalid_0's binary_logloss: 0.628685\n",
      "[5]\tvalid_0's binary_logloss: 0.618385\n",
      "[6]\tvalid_0's binary_logloss: 0.609147\n",
      "[7]\tvalid_0's binary_logloss: 0.600441\n",
      "[8]\tvalid_0's binary_logloss: 0.594815\n",
      "[9]\tvalid_0's binary_logloss: 0.589284\n",
      "[10]\tvalid_0's binary_logloss: 0.585423\n",
      "Classification Report: \n",
      "              precision    recall  f1-score   support\n",
      "\n",
      "          0       0.69      0.61      0.65       296\n",
      "          1       0.63      0.71      0.67       276\n",
      "\n",
      "avg / total       0.66      0.66      0.66       572\n",
      "\n",
      "Confusion Matrix: \n",
      " [[180 116]\n",
      " [ 79 197]]\n",
      "\n",
      "Accuracy 0.6590909090909091\n"
     ]
    }
   ],
   "source": [
    "import lightgbm as lgb\n",
    "from sklearn.metrics import confusion_matrix, mean_absolute_error,accuracy_score\n",
    "from sklearn.metrics import classification_report\n",
    "\n",
    "X_train, X_test, y_train, y_test = train_test_split(x_curr, y_curr, test_size=0.2)\n",
    "\n",
    "X_train, X_val, y_train, y_val = train_test_split(X_train, y_train, test_size=0.2)\n",
    "eval_set = lgb.Dataset(X_val, label=y_val)\n",
    "param = {'objective':'binary'}\n",
    "train_data = lgb.Dataset(X_train, label=y_train, params=param)\n",
    "\n",
    "num_round = 10\n",
    "bst = lgb.train(params=param, train_set=train_data, num_boost_round=10, valid_sets=[eval_set])\n",
    "y_pred = bst.predict(X_test)>.5\n",
    "print(\"Classification Report: \\n\", classification_report(y_test, y_pred))\n",
    "print(\"Confusion Matrix: \\n\", confusion_matrix(y_test, y_pred))\n",
    "accuracy = accuracy_score(y_test, y_pred)\n",
    "print(\"\\nAccuracy\",accuracy)"
   ]
  },
  {
   "cell_type": "code",
   "execution_count": 38,
   "metadata": {},
   "outputs": [
    {
     "data": {
      "text/plain": [
       "model\n",
       "HGST HDS5C4040ALE630         3\n",
       "HGST HMS5C4040ALE640       207\n",
       "HGST HMS5C4040BLE640        98\n",
       "HGST HUH728080ALE600         2\n",
       "Hitachi HDS5C3030ALA630    131\n",
       "Hitachi HDS5C4040ALE630     82\n",
       "Hitachi HDS722020ALA330    130\n",
       "Hitachi HDS723030ALA640     38\n",
       "ST2000VN000                  1\n",
       "ST250LM004 HN                3\n",
       "ST3000DM001                 12\n",
       "ST31500341AS                 4\n",
       "ST31500541AS                36\n",
       "ST3160316AS                  2\n",
       "ST3160318AS                  1\n",
       "ST33000651AS                 6\n",
       "ST4000DM000                554\n",
       "ST4000DX000                  2\n",
       "ST500LM012 HN                7\n",
       "ST6000DX000                 34\n",
       "ST9250315AS                  4\n",
       "TOSHIBA DT01ACA300           1\n",
       "TOSHIBA MD04ABA400V          3\n",
       "WDC WD10EADS                 5\n",
       "WDC WD10EADX                 1\n",
       "WDC WD20EFRX                 3\n",
       "WDC WD30EFRX                33\n",
       "WDC WD3200AAJS               1\n",
       "WDC WD40EFRX                 1\n",
       "WDC WD5000LPVX              12\n",
       "WDC WD60EFRX                11\n",
       "WDC WD800AAJB                1\n",
       "Name: date, dtype: int64"
      ]
     },
     "execution_count": 38,
     "metadata": {},
     "output_type": "execute_result"
    }
   ],
   "source": [
    "nominal_sample.groupby('model').date.count()"
   ]
  },
  {
   "cell_type": "code",
   "execution_count": 51,
   "metadata": {},
   "outputs": [],
   "source": []
  }
 ],
 "metadata": {
  "anaconda-cloud": {},
  "kernelspec": {
   "display_name": "Python [Anaconda3]",
   "language": "python",
   "name": "Python [Anaconda3]"
  },
  "language_info": {
   "codemirror_mode": {
    "name": "ipython",
    "version": 3
   },
   "file_extension": ".py",
   "mimetype": "text/x-python",
   "name": "python",
   "nbconvert_exporter": "python",
   "pygments_lexer": "ipython3",
   "version": "3.5.4"
  }
 },
 "nbformat": 4,
 "nbformat_minor": 2
}
