{
 "cells": [
  {
   "cell_type": "code",
   "execution_count": 17,
   "metadata": {},
   "outputs": [],
   "source": [
    "#ignore if not windows\n",
    "import winsound"
   ]
  },
  {
   "cell_type": "code",
   "execution_count": 18,
   "metadata": {},
   "outputs": [],
   "source": [
    "import pandas as pd\n",
    "import numpy as np\n",
    "import matplotlib.pyplot as plt\n",
    "%matplotlib inline\n",
    "\n",
    "from sklearn.cluster import KMeans\n",
    "from sklearn.semi_supervised import LabelPropagation\n",
    "from sklearn.decomposition import PCA\n",
    "\n",
    "from sklearn.model_selection import train_test_split\n",
    "from sklearn.preprocessing import StandardScaler\n",
    "\n",
    "import helper"
   ]
  },
  {
   "cell_type": "code",
   "execution_count": 19,
   "metadata": {},
   "outputs": [],
   "source": [
    "nominal_sample = pd.read_csv('samples/2015_nominal_samples_n1.csv')\n",
    "gray_sample = pd.read_csv('samples/2015_gray_samples_n1.csv')\n",
    "failure_sample = pd.read_csv('samples/2015_failure_samples_n1.csv')"
   ]
  },
  {
   "cell_type": "code",
   "execution_count": 20,
   "metadata": {},
   "outputs": [],
   "source": [
    "nominal_sample = nominal_sample.dropna(axis=0, thresh=20).dropna(axis=1)\n",
    "failure_sample = failure_sample.dropna(axis=0, thresh=20).dropna(axis=1)\n",
    "gray_sample    = gray_sample.dropna(axis=0, thresh=20).dropna(axis=1)\n",
    "gray_sample.failure = 1\n",
    "nominal_sample = nominal_sample.sample(frac=(failure_sample.shape[0]+gray_sample.shape[0])/nominal_sample.shape[0])\n",
    "data_curr = pd.concat([nominal_sample, failure_sample, gray_sample])\n",
    "data_curr = data_curr.sample(frac=1)"
   ]
  },
  {
   "cell_type": "code",
   "execution_count": 21,
   "metadata": {},
   "outputs": [],
   "source": [
    "#normalized\n",
    "feature_columns = [ 'smart_1_normalized', 'smart_3_normalized', 'smart_4_normalized', 'smart_5_normalized',\n",
    "           'smart_7_normalized','smart_12_normalized', 'smart_194_normalized', \n",
    "           'smart_197_normalized', 'smart_198_normalized', 'smart_199_normalized']"
   ]
  },
  {
   "cell_type": "code",
   "execution_count": 50,
   "metadata": {},
   "outputs": [],
   "source": [
    "#raw\n",
    "feature_columns = [ 'smart_1_raw', 'smart_3_raw', 'smart_4_raw', 'smart_5_raw',\n",
    "           'smart_7_raw','smart_12_raw', 'smart_194_raw', \n",
    "           'smart_197_raw', 'smart_198_raw', 'smart_199_raw']"
   ]
  },
  {
   "cell_type": "code",
   "execution_count": 51,
   "metadata": {},
   "outputs": [
    {
     "name": "stderr",
     "output_type": "stream",
     "text": [
      "C:\\Anaconda3\\lib\\site-packages\\sklearn\\model_selection\\_split.py:2069: FutureWarning: From version 0.21, test_size will always complement train_size unless both are specified.\n",
      "  FutureWarning)\n"
     ]
    }
   ],
   "source": [
    "scale = 'sk'\n",
    "train_size = .66\n",
    "\n",
    "if scale=='sk':\n",
    "    y_curr = data_curr['failure']\n",
    "    x_curr = data_curr[feature_columns]\n",
    "    x_train, x_val, y_train, y_val = train_test_split(x_curr, y_curr, train_size=train_size)\n",
    "\n",
    "    x_train = x_train.values\n",
    "    x_val = x_val.values\n",
    "    y_train = y_train.values\n",
    "    y_val = y_val.values\n",
    "\n",
    "    scaler = StandardScaler()\n",
    "    x_train = scaler.fit_transform(x_train)\n",
    "    x_val = scaler.transform(x_val)\n",
    "elif scale=='sk_manu':\n",
    "    y_curr = data_curr['failure']\n",
    "    x_train, x_val, y_train, y_val = train_test_split(data_curr, y_curr, train_size=train_size)\n",
    "\n",
    "    train_norm = pd.DataFrame()\n",
    "    test_norm = pd.DataFrame()\n",
    "    manufacturers = ['ST','Hi','WD','To','HG']\n",
    "    for man in manufacturers:\n",
    "        data_sub = x_train[[i[:2].lower()==man.lower() for i in x_train.model]]\n",
    "        test_sub = x_val[[i[:2].lower()==man.lower() for i in x_val.model]]\n",
    "        \n",
    "        scaler = StandardScaler()\n",
    "        data_sub = scaler.fit_transform(data_sub[feature_columns])\n",
    "        test_sub = scaler.transform(test_sub[feature_columns])\n",
    "        \n",
    "        train_norm = pd.concat([train_norm,pd.DataFrame(data_sub)])\n",
    "        test_norm = pd.concat([test_norm,pd.DataFrame(test_sub)])\n",
    "        \n",
    "        \n",
    "    x_train = train_norm.sample(frac=1)#[feature_columns]\n",
    "    x_val = test_norm.sample(frac=1)#[feature_columns]\n",
    "\n",
    "    x_train = x_train.values\n",
    "    x_val = x_val.values\n",
    "    y_train = y_train.values\n",
    "    y_val = y_val.values\n",
    "elif scale=='manu':\n",
    "    y_curr = data_curr['failure']\n",
    "    x_train, x_val, y_train, y_val = train_test_split(data_curr, y_curr, train_size=train_size)\n",
    "    \n",
    "    train_norm = pd.DataFrame()\n",
    "    test_norm = pd.DataFrame()\n",
    "    manufacturers = ['ST','Hi','WD','To','HG']\n",
    "    for man in manufacturers:    \n",
    "        data_sub = x_train[[i[:2].lower()==man.lower() for i in x_train.model]]\n",
    "        test_sub = x_val[[i[:2].lower()==man.lower() for i in x_val.model]]\n",
    "        max_ = data_sub.max()\n",
    "        del max_['date']\n",
    "        min_ = data_sub.min()\n",
    "        del min_['date']\n",
    "        for col in feature_columns:\n",
    "            range_ = max_[col] - min_[col]\n",
    "            if range_==0:\n",
    "                range_ = 1\n",
    "            data_sub[col] = (data_sub[col] - min_[col])/range_\n",
    "            test_sub[col] = (test_sub[col] - min_[col])/range_\n",
    "        train_norm = pd.concat([train_norm,data_sub])\n",
    "        test_norm = pd.concat([test_norm,test_sub])\n",
    "        \n",
    "    x_train = train_norm.sample(frac=1)[feature_columns]\n",
    "    x_val = test_norm.sample(frac=1)[feature_columns]\n",
    "\n",
    "    x_train = x_train.values\n",
    "    x_val = x_val.values\n",
    "    y_train = y_train.values\n",
    "    y_val = y_val.values\n",
    "    \n",
    "else:\n",
    "    y_curr = data_curr['failure']\n",
    "    x_curr = data_curr[feature_columns]\n",
    "    x_train, x_val, y_train, y_val = train_test_split(x_curr, y_curr, train_size=train_size)\n",
    "\n",
    "    x_train = x_train.values\n",
    "    x_val = x_val.values\n",
    "    y_train = y_train.values\n",
    "    y_val = y_val.values"
   ]
  },
  {
   "cell_type": "code",
   "execution_count": 52,
   "metadata": {},
   "outputs": [],
   "source": [
    "pca = PCA(n_components=2)\n",
    "principalComponents = pca.fit_transform(x_train)"
   ]
  },
  {
   "cell_type": "code",
   "execution_count": 53,
   "metadata": {},
   "outputs": [],
   "source": [
    "principalDf = pd.DataFrame(data = principalComponents\n",
    "             , columns = ['principal component 1', 'principal component 2'])"
   ]
  },
  {
   "cell_type": "code",
   "execution_count": 54,
   "metadata": {},
   "outputs": [],
   "source": [
    "finalDf = pd.concat([principalDf, pd.DataFrame(y_train)], axis = 1)"
   ]
  },
  {
   "cell_type": "code",
   "execution_count": 55,
   "metadata": {},
   "outputs": [
    {
     "data": {
      "text/plain": [
       "Index(['principal component 1', 'principal component 2', 0], dtype='object')"
      ]
     },
     "execution_count": 55,
     "metadata": {},
     "output_type": "execute_result"
    }
   ],
   "source": [
    "finalDf.columns"
   ]
  },
  {
   "cell_type": "code",
   "execution_count": 28,
   "metadata": {},
   "outputs": [
    {
     "data": {
      "image/png": "[encoded data removed]",
      "text/plain": [
       "<Figure size 432x288 with 1 Axes>"
      ]
     },
     "metadata": {},
     "output_type": "display_data"
    }
   ],
   "source": [
    "plt.xlabel('Principal Component 1', fontsize = 15)\n",
    "plt.ylabel('Principal Component 2', fontsize = 15)\n",
    "plt.title('2 component PCA', fontsize = 20)\n",
    "targets = [0]#,1]\n",
    "colors = ['g']#, 'r']\n",
    "for target, color in zip(targets,colors):\n",
    "    indicesToKeep = y_train == target\n",
    "    plt.scatter(finalDf.loc[indicesToKeep, 'principal component 1']\n",
    "               , finalDf.loc[indicesToKeep, 'principal component 2']\n",
    "               , c = color\n",
    "               , s = 50)\n",
    "plt.legend([\"Negative\"])\n",
    "plt.ylim([-3,3])\n",
    "plt.xlim([-3,3])\n",
    "plt.show()"
   ]
  },
  {
   "cell_type": "code",
   "execution_count": 29,
   "metadata": {},
   "outputs": [
    {
     "data": {
      "image/png": "[encoded data removed]",
      "text/plain": [
       "<Figure size 432x288 with 1 Axes>"
      ]
     },
     "metadata": {},
     "output_type": "display_data"
    }
   ],
   "source": [
    "plt.xlabel('Principal Component 1', fontsize = 15)\n",
    "plt.ylabel('Principal Component 2', fontsize = 15)\n",
    "plt.title('2 component PCA', fontsize = 20)\n",
    "targets = [1]\n",
    "colors = [ 'r']\n",
    "for target, color in zip(targets,colors):\n",
    "    indicesToKeep = y_train == target\n",
    "    plt.scatter(finalDf.loc[indicesToKeep, 'principal component 1']\n",
    "               , finalDf.loc[indicesToKeep, 'principal component 2']\n",
    "               , c = color\n",
    "               , s = 50)\n",
    "plt.legend([\"Positive\"])\n",
    "plt.ylim([-3,3])\n",
    "plt.xlim([-3,3])\n",
    "plt.show()"
   ]
  },
  {
   "cell_type": "code",
   "execution_count": 66,
   "metadata": {},
   "outputs": [
    {
     "data": {
      "image/png": "[encoded data removed]",
      "text/plain": [
       "<Figure size 432x288 with 1 Axes>"
      ]
     },
     "metadata": {},
     "output_type": "display_data"
    }
   ],
   "source": [
    "plt.xlabel('Principal Component 1', fontsize = 15)\n",
    "plt.ylabel('Principal Component 2', fontsize = 15)\n",
    "plt.title('2 component PCA', fontsize = 20)\n",
    "targets = [1,0]\n",
    "colors = ['r','g']\n",
    "alphas = [.1,.1]\n",
    "for target, color, alpha in zip(targets,colors,alphas):\n",
    "    indicesToKeep = y_train == target\n",
    "    plt.scatter(finalDf.loc[indicesToKeep, 'principal component 1']\n",
    "               , finalDf.loc[indicesToKeep, 'principal component 2']\n",
    "               , c = color\n",
    "               , s = 5, alpha = .7)\n",
    "plt.legend([\"Positive\",\"Negative\"])\n",
    "plt.ylim([-3,3])\n",
    "plt.xlim([-3,3])\n",
    "plt.show()"
   ]
  },
  {
   "cell_type": "code",
   "execution_count": 31,
   "metadata": {},
   "outputs": [],
   "source": [
    "# *** MODELS ***\n",
    "n_clusters = 4\n",
    "kmeans = KMeans(n_clusters=n_clusters, n_init=10)"
   ]
  },
  {
   "cell_type": "code",
   "execution_count": 33,
   "metadata": {},
   "outputs": [],
   "source": [
    "model_results = {}"
   ]
  },
  {
   "cell_type": "code",
   "execution_count": 34,
   "metadata": {},
   "outputs": [],
   "source": [
    "kmeans.fit(x_train)\n",
    "\n",
    "labels = [i for i in range(n_clusters)]\n",
    "\n",
    "y_pred = kmeans.labels_\n",
    "for i in range(n_clusters):\n",
    "    labels[i] = y_pred[y_pred==i].mean()\n",
    "\n",
    "    \n",
    "model = kmeans\n",
    "pred_train = model.predict(x_train)\n",
    "pred_val = model.predict(x_val)\n",
    "\n",
    "pred_train = np.array([labels[i] for i in pred_train])\n",
    "pred_val = np.array([labels[i] for i in pred_val])\n",
    "    \n",
    "eval_v = helper.evaluation_metrics(pred_val, y_val)\n",
    "eval_t = helper.evaluation_metrics(pred_train, y_train)\n",
    "model_results[model] = {}\n",
    "model_results[model]['train'] = eval_t\n",
    "model_results[model]['val'] = eval_v"
   ]
  },
  {
   "cell_type": "code",
   "execution_count": 35,
   "metadata": {},
   "outputs": [],
   "source": [
    "label_prop = LabelPropagation(gamma=100)\n",
    "\n",
    "label_prop.fit(x_train, y_train)\n",
    "model = label_prop\n",
    "pred_train = model.predict(x_train)\n",
    "pred_val = model.predict(x_val)\n",
    "\n",
    "eval_v = helper.evaluation_metrics(pred_val, y_val)\n",
    "eval_t = helper.evaluation_metrics(pred_train, y_train)\n",
    "model_results[model] = {}\n",
    "model_results[model]['train'] = eval_t\n",
    "model_results[model]['val'] = eval_v"
   ]
  },
  {
   "cell_type": "code",
   "execution_count": null,
   "metadata": {},
   "outputs": [],
   "source": [
    "winsound.MessageBeep()"
   ]
  },
  {
   "cell_type": "code",
   "execution_count": 36,
   "metadata": {},
   "outputs": [],
   "source": [
    "models = [kmeans,label_prop]"
   ]
  },
  {
   "cell_type": "code",
   "execution_count": 37,
   "metadata": {},
   "outputs": [],
   "source": [
    "models_plot = [kmeans,label_prop]"
   ]
  },
  {
   "cell_type": "code",
   "execution_count": 38,
   "metadata": {},
   "outputs": [
    {
     "data": {
      "image/png": "[encoded data removed]",
      "text/plain": [
       "<Figure size 432x288 with 1 Axes>"
      ]
     },
     "metadata": {},
     "output_type": "display_data"
    }
   ],
   "source": [
    "leg = []\n",
    "data = []\n",
    "for (i,model) in enumerate(models_plot):\n",
    "    leg.append(str(model).split('(')[0])\n",
    "    data.append(model_results[model]['val']['roc_auc'])\n",
    "    plt.bar(i, model_results[model]['val']['roc_auc'])\n",
    "plt.legend(leg,bbox_to_anchor=(0., 1.2, 1., .102), loc=3,\n",
    "           ncol=2, mode=\"expand\", borderaxespad=0.)\n",
    "plt.ylim([0,1])\n",
    "plt.title(\"AUC for Different Models\")\n",
    "plt.show()"
   ]
  },
  {
   "cell_type": "code",
   "execution_count": 39,
   "metadata": {},
   "outputs": [
    {
     "data": {
      "image/png": "[encoded data removed]",
      "text/plain": [
       "<Figure size 432x288 with 1 Axes>"
      ]
     },
     "metadata": {},
     "output_type": "display_data"
    }
   ],
   "source": [
    "leg = []\n",
    "data = []\n",
    "for (i,model) in enumerate(models_plot):\n",
    "    leg.append(str(model).split('(')[0])\n",
    "    data.append(model_results[model]['val']['f1'])\n",
    "    plt.bar(i, model_results[model]['val']['f1'])\n",
    "plt.legend(leg,bbox_to_anchor=(0., 1.2, 1., .102), loc=3,\n",
    "           ncol=2, mode=\"expand\", borderaxespad=0.)\n",
    "plt.ylim([0,1])\n",
    "plt.title(\"F1 for Different Models\")\n",
    "plt.show()"
   ]
  },
  {
   "cell_type": "code",
   "execution_count": 40,
   "metadata": {},
   "outputs": [
    {
     "data": {
      "image/png": "[encoded data removed]",
      "text/plain": [
       "<Figure size 432x288 with 1 Axes>"
      ]
     },
     "metadata": {},
     "output_type": "display_data"
    }
   ],
   "source": [
    "leg = []\n",
    "data = []\n",
    "for (i,model) in enumerate(models_plot):\n",
    "    leg.append(str(model).split('(')[0])\n",
    "    data.append(model_results[model]['val']['precision'])\n",
    "    plt.bar(i, model_results[model]['val']['precision'])\n",
    "plt.legend(leg,bbox_to_anchor=(0., 1.2, 1., .102), loc=3,\n",
    "           ncol=2, mode=\"expand\", borderaxespad=0.)\n",
    "plt.ylim([0,1])\n",
    "plt.title(\"Precision for Different Models\")\n",
    "plt.show()"
   ]
  },
  {
   "cell_type": "code",
   "execution_count": 41,
   "metadata": {},
   "outputs": [
    {
     "data": {
      "image/png": "[encoded data removed]",
      "text/plain": [
       "<Figure size 432x288 with 1 Axes>"
      ]
     },
     "metadata": {},
     "output_type": "display_data"
    }
   ],
   "source": [
    "leg = []\n",
    "data = []\n",
    "for (i,model) in enumerate(models_plot):\n",
    "    leg.append(str(model).split('(')[0])\n",
    "    data.append(model_results[model]['val']['recall'])\n",
    "    plt.bar(i, model_results[model]['val']['recall'])\n",
    "plt.legend(leg,bbox_to_anchor=(0., 1.2, 1., .102), loc=3,\n",
    "           ncol=2, mode=\"expand\", borderaxespad=0.)\n",
    "plt.ylim([0,1])\n",
    "plt.title(\"Recall for Different Models\")\n",
    "plt.show()"
   ]
  },
  {
   "cell_type": "code",
   "execution_count": 42,
   "metadata": {},
   "outputs": [
    {
     "data": {
      "image/png": "[encoded data removed]",
      "text/plain": [
       "<Figure size 432x288 with 1 Axes>"
      ]
     },
     "metadata": {},
     "output_type": "display_data"
    }
   ],
   "source": [
    "leg = []\n",
    "data = []\n",
    "for (i,model) in enumerate(models_plot):\n",
    "    leg.append(str(model).split('(')[0])\n",
    "    data.append(model_results[model]['val']['accuracy'])\n",
    "    plt.bar(i, model_results[model]['val']['accuracy'])\n",
    "plt.legend(leg,bbox_to_anchor=(0., 1.2, 1., .102), loc=3,\n",
    "           ncol=2, mode=\"expand\", borderaxespad=0.)\n",
    "plt.title(\"Accuracy for Different Models\")\n",
    "plt.ylim([0,1])\n",
    "plt.show()"
   ]
  },
  {
   "cell_type": "code",
   "execution_count": 43,
   "metadata": {},
   "outputs": [
    {
     "data": {
      "image/png": "[encoded data removed]",
      "text/plain": [
       "<Figure size 432x288 with 1 Axes>"
      ]
     },
     "metadata": {},
     "output_type": "display_data"
    }
   ],
   "source": [
    "data_t = []\n",
    "data_v = []\n",
    "for (i,model) in enumerate(models_plot):\n",
    "    data_t.append(model_results[model]['train']['roc_auc'])\n",
    "    data_v.append(model_results[model]['val']['roc_auc'])\n",
    "plt.bar([3*i for i in range(len(models_plot))], data_t)\n",
    "plt.bar([3*i+1 for i in range(len(models_plot))], data_v)\n",
    "plt.xticks(np.arange(0,3*len(models_plot),3), [str(m).split('(')[0] for m in models_plot],\n",
    "          rotation='vertical')\n",
    "plt.legend([\"Training\",\"Testing\"],bbox_to_anchor=(0., 1.2, 1., .102), loc=3,\n",
    "           ncol=2, mode=\"expand\", borderaxespad=0.)\n",
    "plt.title(\"AUC for Different Models at Train and Test Time\")\n",
    "plt.ylim([0,1])\n",
    "plt.show()"
   ]
  },
  {
   "cell_type": "code",
   "execution_count": 44,
   "metadata": {},
   "outputs": [
    {
     "data": {
      "image/png": "[encoded data removed]",
      "text/plain": [
       "<Figure size 432x288 with 1 Axes>"
      ]
     },
     "metadata": {},
     "output_type": "display_data"
    }
   ],
   "source": [
    "data_t = []\n",
    "data_v = []\n",
    "for (i,model) in enumerate(models_plot):\n",
    "    data_t.append(model_results[model]['train']['f1'])\n",
    "    data_v.append(model_results[model]['val']['f1'])\n",
    "plt.bar([3*i for i in range(len(models_plot))], data_t)\n",
    "plt.bar([3*i+1 for i in range(len(models_plot))], data_v)\n",
    "plt.xticks(np.arange(0,3*len(models_plot),3), [str(m).split('(')[0] for m in models_plot],\n",
    "          rotation='vertical')\n",
    "plt.legend([\"Training\",\"Testing\"],bbox_to_anchor=(0., 1.2, 1., .102), loc=3,\n",
    "           ncol=2, mode=\"expand\", borderaxespad=0.)\n",
    "plt.title(\"F1 for Different Models at Train and Test Time\")\n",
    "plt.ylim([0,1])\n",
    "plt.show()"
   ]
  },
  {
   "cell_type": "code",
   "execution_count": 45,
   "metadata": {},
   "outputs": [
    {
     "data": {
      "image/png": "[encoded data removed]",
      "text/plain": [
       "<Figure size 432x288 with 1 Axes>"
      ]
     },
     "metadata": {},
     "output_type": "display_data"
    }
   ],
   "source": [
    "data_t = []\n",
    "data_v = []\n",
    "for (i,model) in enumerate(models_plot):\n",
    "    data_t.append(model_results[model]['train']['accuracy'])\n",
    "    data_v.append(model_results[model]['val']['accuracy'])\n",
    "plt.bar([3*i for i in range(len(models_plot))], data_t)\n",
    "plt.bar([3*i+1 for i in range(len(models_plot))], data_v)\n",
    "plt.xticks(np.arange(0,3*len(models_plot),3), [str(m).split('(')[0] for m in models_plot],\n",
    "          rotation='vertical')\n",
    "plt.legend([\"Training\",\"Testing\"],bbox_to_anchor=(0., 1.2, 1., .102), loc=3,\n",
    "           ncol=2, mode=\"expand\", borderaxespad=0.)\n",
    "plt.title(\"Accuracy for Different Models at Train and Test Time\")\n",
    "plt.ylim([0,1])\n",
    "plt.show()"
   ]
  },
  {
   "cell_type": "code",
   "execution_count": 48,
   "metadata": {},
   "outputs": [],
   "source": [
    "metrics_ = pd.DataFrame()\n",
    "table_models = [('KMeans',kmeans),('LabelProp',label_prop)]\n",
    "for (i,model) in enumerate(table_models):\n",
    "    name = str(model[0])\n",
    "    model = model[1]\n",
    "    current = (model_results[model]['train']['accuracy'], model_results[model]['val']['accuracy'],\n",
    "               model_results[model]['train']['roc_auc'], model_results[model]['val']['roc_auc'],\n",
    "              model_results[model]['train']['f1'], model_results[model]['val']['f1'])\n",
    "    metrics_ = pd.concat([metrics_,\n",
    "                          pd.DataFrame([current],index=[name])])\n",
    "metrics_.columns=['Training Accuracy','Test Accuracy','Training Auc','Test Auc','Training F1','Test F1']"
   ]
  },
  {
   "cell_type": "code",
   "execution_count": 49,
   "metadata": {},
   "outputs": [
    {
     "data": {
      "text/html": [
       "<div>\n",
       "<style scoped>\n",
       "    .dataframe tbody tr th:only-of-type {\n",
       "        vertical-align: middle;\n",
       "    }\n",
       "\n",
       "    .dataframe tbody tr th {\n",
       "        vertical-align: top;\n",
       "    }\n",
       "\n",
       "    .dataframe thead th {\n",
       "        text-align: right;\n",
       "    }\n",
       "</style>\n",
       "<table border=\"1\" class=\"dataframe\">\n",
       "  <thead>\n",
       "    <tr style=\"text-align: right;\">\n",
       "      <th></th>\n",
       "      <th>Training Accuracy</th>\n",
       "      <th>Test Accuracy</th>\n",
       "      <th>Training Auc</th>\n",
       "      <th>Test Auc</th>\n",
       "      <th>Training F1</th>\n",
       "      <th>Test F1</th>\n",
       "    </tr>\n",
       "  </thead>\n",
       "  <tbody>\n",
       "    <tr>\n",
       "      <th>KMeans</th>\n",
       "      <td>0.658622</td>\n",
       "      <td>0.650182</td>\n",
       "      <td>0.638600</td>\n",
       "      <td>0.628699</td>\n",
       "      <td>0.705801</td>\n",
       "      <td>0.698655</td>\n",
       "    </tr>\n",
       "    <tr>\n",
       "      <th>LabelProp</th>\n",
       "      <td>0.734781</td>\n",
       "      <td>0.676731</td>\n",
       "      <td>0.734618</td>\n",
       "      <td>0.677070</td>\n",
       "      <td>0.756344</td>\n",
       "      <td>0.703580</td>\n",
       "    </tr>\n",
       "  </tbody>\n",
       "</table>\n",
       "</div>"
      ],
      "text/plain": [
       "           Training Accuracy  Test Accuracy  Training Auc  Test Auc  \\\n",
       "KMeans              0.658622       0.650182      0.638600  0.628699   \n",
       "LabelProp           0.734781       0.676731      0.734618  0.677070   \n",
       "\n",
       "           Training F1   Test F1  \n",
       "KMeans        0.705801  0.698655  \n",
       "LabelProp     0.756344  0.703580  "
      ]
     },
     "execution_count": 49,
     "metadata": {},
     "output_type": "execute_result"
    }
   ],
   "source": [
    "metrics_\n"
   ]
  },
  {
   "cell_type": "code",
   "execution_count": null,
   "metadata": {},
   "outputs": [],
   "source": [
    "# load future\n",
    "f_nominal_sample = pd.read_csv('samples/2018_nominal_samples_n1.csv')\n",
    "f_gray_sample = pd.read_csv('samples/2018_gray_samples_n1.csv')\n",
    "f_failure_sample = pd.read_csv('samples/2018_failure_samples_n1.csv')\n",
    "\n",
    "#clean future\n",
    "f_nominal_sample = f_nominal_sample.dropna(axis=0, thresh=20).dropna(axis=1)\n",
    "f_failure_sample = f_failure_sample.dropna(axis=0, thresh=20).dropna(axis=1)\n",
    "f_gray_sample    = f_gray_sample.dropna(axis=0, thresh=20).dropna(axis=1)\n",
    "f_gray_sample.failure = 1\n",
    "#f_nominal_sample = f_nominal_sample.sample(frac=(f_failure_sample.shape[0]+f_gray_sample.shape[0])/f_nominal_sample.shape[0])\n",
    "\n",
    "#create test set\n",
    "data_curr = pd.concat([f_nominal_sample, f_failure_sample])\n",
    "data_curr = data_curr.sample(frac=1)\n",
    "f_y_test = data_curr['failure']\n",
    "f_x_test = data_curr[feature_columns]\n",
    "f_x_test = scaler.transform(f_x_test)"
   ]
  },
  {
   "cell_type": "code",
   "execution_count": null,
   "metadata": {},
   "outputs": [],
   "source": [
    "for model in models:\n",
    "    pred_test = model.predict_proba(f_x_test)[:,1]\n",
    "    eval_f = helper.evaluation_metrics(pred_test, f_y_test)\n",
    "    model_results[model]['future'] = eval_f"
   ]
  },
  {
   "cell_type": "code",
   "execution_count": null,
   "metadata": {},
   "outputs": [],
   "source": [
    "winsound.MessageBeep()"
   ]
  },
  {
   "cell_type": "code",
   "execution_count": null,
   "metadata": {},
   "outputs": [],
   "source": [
    "data_t = []\n",
    "data_v = []\n",
    "data_f = []\n",
    "for (i,model) in enumerate(models_plot):\n",
    "    data_t.append(model_results[model]['train']['accuracy'])\n",
    "    data_v.append(model_results[model]['val']['accuracy'])\n",
    "    data_f.append(model_results[model]['future']['accuracy'])\n",
    "plt.bar([4*i for i in range(len(models_plot))], data_t)\n",
    "plt.bar([4*i+1 for i in range(len(models_plot))], data_v)\n",
    "plt.bar([4*i+2 for i in range(len(models_plot))], data_f)\n",
    "plt.xticks(np.arange(1,4*len(models_plot),4), [str(m).split('(')[0] for m in models_plot],\n",
    "          rotation='vertical')\n",
    "plt.legend([\"Training\",\"Testing\",\"Future\"],bbox_to_anchor=(0., 1.2, 1., .102), loc=3,\n",
    "           ncol=2, mode=\"expand\", borderaxespad=0.)\n",
    "plt.title(\"Accuracy for Different Models at Train and Test and Future\")\n",
    "plt.ylim([0,1])\n",
    "plt.show()"
   ]
  },
  {
   "cell_type": "code",
   "execution_count": null,
   "metadata": {},
   "outputs": [],
   "source": [
    "data_t = []\n",
    "data_v = []\n",
    "data_f = []\n",
    "for (i,model) in enumerate(models_plot):\n",
    "    data_t.append(model_results[model]['train']['recall'])\n",
    "    data_v.append(model_results[model]['val']['recall'])\n",
    "    data_f.append(model_results[model]['future']['recall'])\n",
    "plt.bar([4*i for i in range(len(models_plot))], data_t)\n",
    "plt.bar([4*i+1 for i in range(len(models_plot))], data_v)\n",
    "plt.bar([4*i+2 for i in range(len(models_plot))], data_f)\n",
    "plt.xticks(np.arange(1,4*len(models_plot),4), [str(m).split('(')[0] for m in models_plot],\n",
    "          rotation='vertical')\n",
    "plt.legend([\"Training\",\"Testing\",\"Future\"],bbox_to_anchor=(0., 1.2, 1., .102), loc=3,\n",
    "           ncol=2, mode=\"expand\", borderaxespad=0.)\n",
    "plt.title(\"Recall for Different Models at Train and Test and Future\")\n",
    "plt.ylim([0,1])\n",
    "plt.show()"
   ]
  },
  {
   "cell_type": "code",
   "execution_count": null,
   "metadata": {},
   "outputs": [],
   "source": [
    "model_results[models[0]]['val']['confusion'],model_results[models[0]]['future']['confusion']"
   ]
  },
  {
   "cell_type": "code",
   "execution_count": null,
   "metadata": {},
   "outputs": [],
   "source": [
    "model_results[models[1]]['val']['confusion'],model_results[models[1]]['future']['confusion']"
   ]
  },
  {
   "cell_type": "code",
   "execution_count": null,
   "metadata": {},
   "outputs": [],
   "source": [
    "model_results[models[2]]['val']['confusion'],model_results[models[2]]['future']['confusion']"
   ]
  },
  {
   "cell_type": "code",
   "execution_count": null,
   "metadata": {
    "scrolled": true
   },
   "outputs": [],
   "source": [
    "data_t = []\n",
    "data_v = []\n",
    "data_f = []\n",
    "for (i,model) in enumerate(models_plot):\n",
    "    data_t.append(model_results[model]['train']['roc_auc'])\n",
    "    data_v.append(model_results[model]['val']['roc_auc'])\n",
    "    data_f.append(model_results[model]['future']['roc_auc'])\n",
    "plt.bar([4*i for i in range(len(models_plot))], data_t)\n",
    "plt.bar([4*i+1 for i in range(len(models_plot))], data_v)\n",
    "plt.bar([4*i+2 for i in range(len(models_plot))], data_f)\n",
    "plt.xticks(np.arange(1,4*len(models_plot),4), [str(m).split('(')[0] for m in models_plot],\n",
    "          rotation='vertical')\n",
    "plt.legend([\"Training\",\"Testing\",\"Future\"],bbox_to_anchor=(0., 1.2, 1., .102), loc=3,\n",
    "           ncol=2, mode=\"expand\", borderaxespad=0.)\n",
    "plt.title(\"AUC for Different Models at Train and Test and Future\")\n",
    "plt.ylim([0,1])\n",
    "plt.show()"
   ]
  },
  {
   "cell_type": "code",
   "execution_count": null,
   "metadata": {
    "scrolled": true
   },
   "outputs": [],
   "source": [
    "data_t = []\n",
    "data_v = []\n",
    "data_f = []\n",
    "for (i,model) in enumerate(models_plot):\n",
    "    data_t.append(model_results[model]['train']['f1'])\n",
    "    data_v.append(model_results[model]['val']['f1'])\n",
    "    data_f.append(model_results[model]['future']['f1'])\n",
    "plt.bar([4*i for i in range(len(models_plot))], data_t)\n",
    "plt.bar([4*i+1 for i in range(len(models_plot))], data_v)\n",
    "plt.bar([4*i+2 for i in range(len(models_plot))], data_f)\n",
    "plt.xticks(np.arange(1,4*len(models_plot),4), [str(m).split('(')[0] for m in models_plot],\n",
    "          rotation='vertical')\n",
    "plt.legend([\"Training\",\"Testing\",\"Future\"],bbox_to_anchor=(0., 1.2, 1., .102), loc=3,\n",
    "           ncol=2, mode=\"expand\", borderaxespad=0.)\n",
    "plt.title(\"F1 Score for Different Models at Train and Test and Future\")\n",
    "plt.ylim([0,1])\n",
    "plt.show()"
   ]
  },
  {
   "cell_type": "code",
   "execution_count": null,
   "metadata": {},
   "outputs": [],
   "source": [
    "tpr = model_results[models[1]]['future']['tpr']\n",
    "fpr = model_results[models[1]]['future']['fpr']\n",
    "auc = model_results[models[1]]['future']['roc_auc']\n",
    "\n",
    "plt.figure()\n",
    "lw = 2\n",
    "plt.plot(fpr, tpr, color='darkorange',\n",
    "         lw=lw, label='ROC curve (%s: area = %0.2f)' % (str(models[1]).split('(')[0],auc))\n",
    "plt.plot([0, 1], [0, 1], color='navy', lw=lw, linestyle='--')\n",
    "plt.xlim([0.0, 1.0])\n",
    "plt.ylim([0.0, 1.05])\n",
    "plt.xlabel('False Positive Rate')\n",
    "plt.ylabel('True Positive Rate')\n",
    "plt.title('Receiver operating characteristic example')\n",
    "plt.legend(loc=\"lower right\")\n",
    "plt.show()"
   ]
  },
  {
   "cell_type": "code",
   "execution_count": null,
   "metadata": {},
   "outputs": [],
   "source": [
    "tpr = model_results[models[2]]['future']['tpr']\n",
    "fpr = model_results[models[2]]['future']['fpr']\n",
    "auc = model_results[models[2]]['future']['roc_auc']\n",
    "\n",
    "plt.figure()\n",
    "lw = 2\n",
    "plt.plot(fpr, tpr, color='darkorange',\n",
    "         lw=lw, label='ROC curve (area = %0.2f)' % auc)\n",
    "plt.plot([0, 1], [0, 1], color='navy', lw=lw, linestyle='--')\n",
    "plt.xlim([0.0, 1.0])\n",
    "plt.ylim([0.0, 1.05])\n",
    "plt.xlabel('False Positive Rate')\n",
    "plt.ylabel('True Positive Rate')\n",
    "plt.title('Receiver operating characteristic example')\n",
    "plt.legend(loc=\"lower right\")\n",
    "plt.show()"
   ]
  },
  {
   "cell_type": "code",
   "execution_count": null,
   "metadata": {},
   "outputs": [],
   "source": [
    "plt.figure()\n",
    "lw = 2\n",
    "for mod in models:\n",
    "    tpr = model_results[mod]['val']['tpr']\n",
    "    fpr = model_results[mod]['val']['fpr']\n",
    "    auc = model_results[mod]['val']['roc_auc']\n",
    "    plt.plot(fpr, tpr, \n",
    "             lw=lw, label='ROC curve (%s: area = %0.2f)' % (str(mod).split('(')[0],auc))\n",
    "plt.plot([0, 1], [0, 1], color='navy', lw=lw, linestyle='--')\n",
    "plt.xlim([0.0, 1.0])\n",
    "plt.ylim([0.0, 1.05])\n",
    "plt.xlabel('False Positive Rate')\n",
    "plt.ylabel('True Positive Rate')\n",
    "plt.title('Receiver operating characteristic example')\n",
    "plt.legend(bbox_to_anchor=(0., 1.2, 1., .102), loc=3,\n",
    "           ncol=1, mode=\"expand\", borderaxespad=0.)\n",
    "plt.show()"
   ]
  },
  {
   "cell_type": "code",
   "execution_count": null,
   "metadata": {},
   "outputs": [],
   "source": [
    "model_results[rfc100]"
   ]
  },
  {
   "cell_type": "code",
   "execution_count": null,
   "metadata": {},
   "outputs": [],
   "source": []
  }
 ],
 "metadata": {
  "anaconda-cloud": {},
  "kernelspec": {
   "display_name": "Python [Anaconda3]",
   "language": "python",
   "name": "Python [Anaconda3]"
  },
  "language_info": {
   "codemirror_mode": {
    "name": "ipython",
    "version": 3
   },
   "file_extension": ".py",
   "mimetype": "text/x-python",
   "name": "python",
   "nbconvert_exporter": "python",
   "pygments_lexer": "ipython3",
   "version": "3.5.4"
  }
 },
 "nbformat": 4,
 "nbformat_minor": 2
}
