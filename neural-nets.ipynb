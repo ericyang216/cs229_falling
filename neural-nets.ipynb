{
 "cells": [
  {
   "cell_type": "code",
   "execution_count": 1,
   "metadata": {},
   "outputs": [],
   "source": [
    "import pandas as pd\n",
    "import numpy as np\n",
    "import sys\n",
    "import os"
   ]
  },
  {
   "cell_type": "code",
   "execution_count": 2,
   "metadata": {},
   "outputs": [],
   "source": [
    "import winsound"
   ]
  },
  {
   "cell_type": "code",
   "execution_count": 3,
   "metadata": {},
   "outputs": [
    {
     "data": {
      "text/plain": [
       "['.git',\n",
       " '.gitignore',\n",
       " '.ipynb_checkpoints',\n",
       " '2015_failures.csv',\n",
       " '2015_sample.csv',\n",
       " 'boosting.ipynb',\n",
       " 'data_Q1_2018_failures.csv',\n",
       " 'data_Q2_2018_failures.csv',\n",
       " 'data_Q3_2018_failures.csv',\n",
       " 'hard_drive_intro.ipynb',\n",
       " 'neural-nets.ipynb',\n",
       " 'random_sample.py',\n",
       " 'README.md',\n",
       " 'sampling.ipynb',\n",
       " 'save_failures.py']"
      ]
     },
     "execution_count": 3,
     "metadata": {},
     "output_type": "execute_result"
    }
   ],
   "source": [
    "os.listdir()"
   ]
  },
  {
   "cell_type": "code",
   "execution_count": 4,
   "metadata": {},
   "outputs": [],
   "source": [
    "good = pd.read_csv('2015_sample.csv')"
   ]
  },
  {
   "cell_type": "code",
   "execution_count": 5,
   "metadata": {},
   "outputs": [],
   "source": [
    "bad = pd.read_csv('2015_failures.csv')"
   ]
  },
  {
   "cell_type": "code",
   "execution_count": 29,
   "metadata": {},
   "outputs": [],
   "source": [
    "df = pd.concat([good,bad])"
   ]
  },
  {
   "cell_type": "code",
   "execution_count": 30,
   "metadata": {},
   "outputs": [],
   "source": [
    "df = df.dropna(0,thresh=30).dropna(1)\n",
    "columns = [i for i in df.columns if 'capacity' in i or 'normalized' in i]\n",
    "X = df[columns]\n",
    "y = df['failure']"
   ]
  },
  {
   "cell_type": "code",
   "execution_count": 8,
   "metadata": {},
   "outputs": [
    {
     "name": "stderr",
     "output_type": "stream",
     "text": [
      "C:\\Anaconda3\\lib\\site-packages\\h5py\\__init__.py:36: FutureWarning: Conversion of the second argument of issubdtype from `float` to `np.floating` is deprecated. In future, it will be treated as `np.float64 == np.dtype(float).type`.\n",
      "  from ._conv import register_converters as _register_converters\n"
     ]
    }
   ],
   "source": [
    "import tensorflow as tf"
   ]
  },
  {
   "cell_type": "code",
   "execution_count": 31,
   "metadata": {},
   "outputs": [
    {
     "data": {
      "text/html": [
       "<div>\n",
       "<style scoped>\n",
       "    .dataframe tbody tr th:only-of-type {\n",
       "        vertical-align: middle;\n",
       "    }\n",
       "\n",
       "    .dataframe tbody tr th {\n",
       "        vertical-align: top;\n",
       "    }\n",
       "\n",
       "    .dataframe thead th {\n",
       "        text-align: right;\n",
       "    }\n",
       "</style>\n",
       "<table border=\"1\" class=\"dataframe\">\n",
       "  <thead>\n",
       "    <tr style=\"text-align: right;\">\n",
       "      <th></th>\n",
       "      <th>capacity_bytes</th>\n",
       "      <th>smart_1_normalized</th>\n",
       "      <th>smart_3_normalized</th>\n",
       "      <th>smart_4_normalized</th>\n",
       "      <th>smart_5_normalized</th>\n",
       "      <th>smart_7_normalized</th>\n",
       "      <th>smart_9_normalized</th>\n",
       "      <th>smart_10_normalized</th>\n",
       "      <th>smart_12_normalized</th>\n",
       "      <th>smart_194_normalized</th>\n",
       "      <th>smart_197_normalized</th>\n",
       "      <th>smart_198_normalized</th>\n",
       "      <th>smart_199_normalized</th>\n",
       "    </tr>\n",
       "  </thead>\n",
       "  <tbody>\n",
       "    <tr>\n",
       "      <th>0</th>\n",
       "      <td>3000592982016</td>\n",
       "      <td>100.0</td>\n",
       "      <td>141.0</td>\n",
       "      <td>100.0</td>\n",
       "      <td>100.0</td>\n",
       "      <td>100.0</td>\n",
       "      <td>98.0</td>\n",
       "      <td>100.0</td>\n",
       "      <td>100.0</td>\n",
       "      <td>222.0</td>\n",
       "      <td>100.0</td>\n",
       "      <td>100.0</td>\n",
       "      <td>200.0</td>\n",
       "    </tr>\n",
       "    <tr>\n",
       "      <th>1</th>\n",
       "      <td>4000787030016</td>\n",
       "      <td>116.0</td>\n",
       "      <td>93.0</td>\n",
       "      <td>100.0</td>\n",
       "      <td>100.0</td>\n",
       "      <td>84.0</td>\n",
       "      <td>92.0</td>\n",
       "      <td>100.0</td>\n",
       "      <td>100.0</td>\n",
       "      <td>27.0</td>\n",
       "      <td>100.0</td>\n",
       "      <td>100.0</td>\n",
       "      <td>200.0</td>\n",
       "    </tr>\n",
       "    <tr>\n",
       "      <th>2</th>\n",
       "      <td>4000787030016</td>\n",
       "      <td>119.0</td>\n",
       "      <td>91.0</td>\n",
       "      <td>100.0</td>\n",
       "      <td>100.0</td>\n",
       "      <td>87.0</td>\n",
       "      <td>78.0</td>\n",
       "      <td>100.0</td>\n",
       "      <td>100.0</td>\n",
       "      <td>19.0</td>\n",
       "      <td>100.0</td>\n",
       "      <td>100.0</td>\n",
       "      <td>200.0</td>\n",
       "    </tr>\n",
       "    <tr>\n",
       "      <th>3</th>\n",
       "      <td>4000787030016</td>\n",
       "      <td>117.0</td>\n",
       "      <td>95.0</td>\n",
       "      <td>100.0</td>\n",
       "      <td>100.0</td>\n",
       "      <td>84.0</td>\n",
       "      <td>84.0</td>\n",
       "      <td>100.0</td>\n",
       "      <td>100.0</td>\n",
       "      <td>25.0</td>\n",
       "      <td>100.0</td>\n",
       "      <td>100.0</td>\n",
       "      <td>200.0</td>\n",
       "    </tr>\n",
       "    <tr>\n",
       "      <th>4</th>\n",
       "      <td>3000592982016</td>\n",
       "      <td>100.0</td>\n",
       "      <td>140.0</td>\n",
       "      <td>100.0</td>\n",
       "      <td>100.0</td>\n",
       "      <td>100.0</td>\n",
       "      <td>97.0</td>\n",
       "      <td>100.0</td>\n",
       "      <td>100.0</td>\n",
       "      <td>193.0</td>\n",
       "      <td>100.0</td>\n",
       "      <td>100.0</td>\n",
       "      <td>200.0</td>\n",
       "    </tr>\n",
       "  </tbody>\n",
       "</table>\n",
       "</div>"
      ],
      "text/plain": [
       "   capacity_bytes  smart_1_normalized  smart_3_normalized  smart_4_normalized  \\\n",
       "0   3000592982016               100.0               141.0               100.0   \n",
       "1   4000787030016               116.0                93.0               100.0   \n",
       "2   4000787030016               119.0                91.0               100.0   \n",
       "3   4000787030016               117.0                95.0               100.0   \n",
       "4   3000592982016               100.0               140.0               100.0   \n",
       "\n",
       "   smart_5_normalized  smart_7_normalized  smart_9_normalized  \\\n",
       "0               100.0               100.0                98.0   \n",
       "1               100.0                84.0                92.0   \n",
       "2               100.0                87.0                78.0   \n",
       "3               100.0                84.0                84.0   \n",
       "4               100.0               100.0                97.0   \n",
       "\n",
       "   smart_10_normalized  smart_12_normalized  smart_194_normalized  \\\n",
       "0                100.0                100.0                 222.0   \n",
       "1                100.0                100.0                  27.0   \n",
       "2                100.0                100.0                  19.0   \n",
       "3                100.0                100.0                  25.0   \n",
       "4                100.0                100.0                 193.0   \n",
       "\n",
       "   smart_197_normalized  smart_198_normalized  smart_199_normalized  \n",
       "0                 100.0                 100.0                 200.0  \n",
       "1                 100.0                 100.0                 200.0  \n",
       "2                 100.0                 100.0                 200.0  \n",
       "3                 100.0                 100.0                 200.0  \n",
       "4                 100.0                 100.0                 200.0  "
      ]
     },
     "execution_count": 31,
     "metadata": {},
     "output_type": "execute_result"
    }
   ],
   "source": [
    "X.head()"
   ]
  },
  {
   "cell_type": "code",
   "execution_count": 27,
   "metadata": {},
   "outputs": [],
   "source": [
    "from sklearn.model_selection import train_test_split"
   ]
  },
  {
   "cell_type": "code",
   "execution_count": 32,
   "metadata": {},
   "outputs": [],
   "source": [
    "X_train, X_test, y_train, y_test = train_test_split(\n",
    "     X, y, test_size=0.66, random_state=42)"
   ]
  },
  {
   "cell_type": "code",
   "execution_count": 13,
   "metadata": {},
   "outputs": [],
   "source": [
    "accuracy = lambda actual,predicted : 1- np.mean(np.abs(actual-predicted))\n",
    "\n",
    "def precision(actual,predicted):\n",
    "    tp = np.all([actual, predicted],axis=0).sum()\n",
    "    fp = np.all([1-actual, predicted],axis=0).sum()\n",
    "    tn = np.all([1-actual, 1-predicted],axis=0).sum()\n",
    "    fn = np.all([actual, 1-predicted],axis=0).sum()\n",
    "    return tp/(tp+fp) if (tp+fp>0) else 0\n",
    "\n",
    "def recall(actual,predicted):\n",
    "    tp = np.all([actual, predicted],axis=0).sum()\n",
    "    fp = np.all([1-actual, predicted],axis=0).sum()\n",
    "    tn = np.all([1-actual, 1-predicted],axis=0).sum()\n",
    "    fn = np.all([actual, 1-predicted],axis=0).sum()\n",
    "    return tp/(tp+fn) if (tp+fn>0) else 0"
   ]
  },
  {
   "cell_type": "code",
   "execution_count": 12,
   "metadata": {},
   "outputs": [],
   "source": [
    "def layer(x, num_neuron, i, activation):\n",
    "    input_shape = x.get_shape()\n",
    "    W = tf.get_variable(\"weights_%d\" %i, \n",
    "      [input_shape[-1], num_neuron], initializer = tf.truncated_normal_initializer(stddev = 0.1))\n",
    "    b = tf.get_variable(\"bias_%d\" %i, \n",
    "      [1, num_neuron], initializer = tf.truncated_normal_initializer(stddev = 0.1))\n",
    "    y = tf.matmul(x, W) + b\n",
    "    return activation(y)"
   ]
  },
  {
   "cell_type": "code",
   "execution_count": 33,
   "metadata": {},
   "outputs": [],
   "source": [
    "tf.reset_default_graph()\n",
    "x = tf.placeholder(tf.float32, [None, X.shape[1]])\n",
    "h = x\n",
    "for i in range(3):\n",
    "    h = layer(h,100,i,tf.nn.relu)\n",
    "#output layer\n",
    "h = layer(h,2,4,tf.nn.sigmoid)"
   ]
  },
  {
   "cell_type": "code",
   "execution_count": 34,
   "metadata": {},
   "outputs": [],
   "source": [
    "prediction = h\n",
    "y = h\n",
    "y_ = tf.placeholder(tf.float32, [None, 2])\n",
    "loss = tf.reduce_mean(tf.square(y - y_))\n",
    "train_step = tf.train.GradientDescentOptimizer(.1).minimize(loss)"
   ]
  },
  {
   "cell_type": "code",
   "execution_count": 37,
   "metadata": {},
   "outputs": [],
   "source": [
    "sess = tf.Session()\n",
    "tf.global_variables_initializer().run(session=sess)\n",
    "for i in range(1000):\n",
    "    sess.run([loss, train_step], feed_dict={x: X_train, y_: [[i==0,i==1] for i in y_train]})"
   ]
  },
  {
   "cell_type": "code",
   "execution_count": 47,
   "metadata": {},
   "outputs": [],
   "source": [
    "y_pred_ = sess.run(prediction, feed_dict={x:X_test})\n",
    "y_pred = np.argmax(y_pred_,axis=1)"
   ]
  },
  {
   "cell_type": "code",
   "execution_count": 48,
   "metadata": {},
   "outputs": [
    {
     "name": "stdout",
     "output_type": "stream",
     "text": [
      "Trained:  Neural net\n",
      "Precision: 0.4970822281167109\n",
      "Recall: 1.0\n",
      "Accuracy: 0.4970822281167109\n"
     ]
    }
   ],
   "source": [
    "print(\"Trained: \",\"Neural net\")\n",
    "print(\"Precision:\",precision(y_test,y_pred))\n",
    "print(\"Recall:\",recall(y_test,y_pred))\n",
    "print(\"Accuracy:\",accuracy(y_test,y_pred))"
   ]
  },
  {
   "cell_type": "code",
   "execution_count": 49,
   "metadata": {},
   "outputs": [
    {
     "data": {
      "text/plain": [
       "array([1, 1, 1, ..., 1, 1, 1], dtype=int64)"
      ]
     },
     "execution_count": 49,
     "metadata": {},
     "output_type": "execute_result"
    }
   ],
   "source": [
    "y_pred"
   ]
  },
  {
   "cell_type": "code",
   "execution_count": null,
   "metadata": {},
   "outputs": [],
   "source": []
  }
 ],
 "metadata": {
  "anaconda-cloud": {},
  "kernelspec": {
   "display_name": "Python [Anaconda3]",
   "language": "python",
   "name": "Python [Anaconda3]"
  },
  "language_info": {
   "codemirror_mode": {
    "name": "ipython",
    "version": 3
   },
   "file_extension": ".py",
   "mimetype": "text/x-python",
   "name": "python",
   "nbconvert_exporter": "python",
   "pygments_lexer": "ipython3",
   "version": "3.5.4"
  }
 },
 "nbformat": 4,
 "nbformat_minor": 2
}
